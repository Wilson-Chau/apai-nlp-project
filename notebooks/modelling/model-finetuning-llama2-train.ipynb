{
 "cells": [
  {
   "cell_type": "markdown",
   "metadata": {},
   "source": [
    "# Model fine-tuning (Llama-2-7b-chat)"
   ]
  },
  {
   "cell_type": "markdown",
   "metadata": {},
   "source": [
    "Reference: https://www.datacamp.com/tutorial/fine-tuning-llama-2"
   ]
  },
  {
   "cell_type": "code",
   "execution_count": 1,
   "metadata": {},
   "outputs": [],
   "source": [
    "import os\n",
    "import torch\n",
    "import pandas as pd\n",
    "from datasets import Dataset\n",
    "from datetime import datetime\n",
    "from peft import LoraConfig\n",
    "from tensorboard import notebook\n",
    "from transformers import (\n",
    "    AutoModelForCausalLM,\n",
    "    AutoTokenizer,\n",
    "    BitsAndBytesConfig,\n",
    "    TrainingArguments,\n",
    "    pipeline,\n",
    ")\n",
    "from trl import SFTTrainer\n",
    "\n",
    "os.chdir(\"..\")"
   ]
  },
  {
   "cell_type": "markdown",
   "metadata": {},
   "source": [
    "### Load and preprocess training data"
   ]
  },
  {
   "cell_type": "code",
   "execution_count": 2,
   "metadata": {},
   "outputs": [
    {
     "name": "stdout",
     "output_type": "stream",
     "text": [
      "(445, 6)\n"
     ]
    }
   ],
   "source": [
    "train_path = \"data/processed/split/counsel-chat-best-answer-train.csv\"\n",
    "df_train = pd.read_csv(train_path).set_index(\"questionID\")\n",
    "print(df_train.shape)"
   ]
  },
  {
   "cell_type": "code",
   "execution_count": 3,
   "metadata": {},
   "outputs": [
    {
     "data": {
      "text/html": [
       "<div>\n",
       "<style scoped>\n",
       "    .dataframe tbody tr th:only-of-type {\n",
       "        vertical-align: middle;\n",
       "    }\n",
       "\n",
       "    .dataframe tbody tr th {\n",
       "        vertical-align: top;\n",
       "    }\n",
       "\n",
       "    .dataframe thead th {\n",
       "        text-align: right;\n",
       "    }\n",
       "</style>\n",
       "<table border=\"1\" class=\"dataframe\">\n",
       "  <thead>\n",
       "    <tr style=\"text-align: right;\">\n",
       "      <th></th>\n",
       "      <th>questionTitle</th>\n",
       "      <th>questionText</th>\n",
       "      <th>topic</th>\n",
       "      <th>answerText</th>\n",
       "      <th>upvotes</th>\n",
       "      <th>views</th>\n",
       "    </tr>\n",
       "    <tr>\n",
       "      <th>questionID</th>\n",
       "      <th></th>\n",
       "      <th></th>\n",
       "      <th></th>\n",
       "      <th></th>\n",
       "      <th></th>\n",
       "      <th></th>\n",
       "    </tr>\n",
       "  </thead>\n",
       "  <tbody>\n",
       "    <tr>\n",
       "      <th>1</th>\n",
       "      <td>My apartment manager won't let me keep an emot...</td>\n",
       "      <td>I have been diagnosed with general anxiety and...</td>\n",
       "      <td>depression</td>\n",
       "      <td>This can be a difficult situation.  Typically,...</td>\n",
       "      <td>2</td>\n",
       "      <td>1026</td>\n",
       "    </tr>\n",
       "    <tr>\n",
       "      <th>3</th>\n",
       "      <td>Why do I feel like I don't belong anywhere?</td>\n",
       "      <td>There are many people willing to lovingly prov...</td>\n",
       "      <td>depression</td>\n",
       "      <td>I truly understand what you are saying. I want...</td>\n",
       "      <td>1</td>\n",
       "      <td>62</td>\n",
       "    </tr>\n",
       "    <tr>\n",
       "      <th>4</th>\n",
       "      <td>How can I help my girlfriend?</td>\n",
       "      <td>My girlfriend just quit drinking and she becam...</td>\n",
       "      <td>depression</td>\n",
       "      <td>You're probably not going to like my answer.Yo...</td>\n",
       "      <td>3</td>\n",
       "      <td>824</td>\n",
       "    </tr>\n",
       "    <tr>\n",
       "      <th>10</th>\n",
       "      <td>How do I stop feeling empty?</td>\n",
       "      <td>I don't know how else to explain it. All I can...</td>\n",
       "      <td>depression</td>\n",
       "      <td>Why do I feel empty?Feelings of emptiness—a la...</td>\n",
       "      <td>3</td>\n",
       "      <td>148</td>\n",
       "    </tr>\n",
       "    <tr>\n",
       "      <th>12</th>\n",
       "      <td>How can I get my husband to listen to my needs...</td>\n",
       "      <td>I tried telling my husband I was depressed, an...</td>\n",
       "      <td>depression</td>\n",
       "      <td>Oh dear.From what you write, your husband does...</td>\n",
       "      <td>1</td>\n",
       "      <td>240</td>\n",
       "    </tr>\n",
       "  </tbody>\n",
       "</table>\n",
       "</div>"
      ],
      "text/plain": [
       "                                                questionTitle  \\\n",
       "questionID                                                      \n",
       "1           My apartment manager won't let me keep an emot...   \n",
       "3                 Why do I feel like I don't belong anywhere?   \n",
       "4                               How can I help my girlfriend?   \n",
       "10                               How do I stop feeling empty?   \n",
       "12          How can I get my husband to listen to my needs...   \n",
       "\n",
       "                                                 questionText       topic  \\\n",
       "questionID                                                                  \n",
       "1           I have been diagnosed with general anxiety and...  depression   \n",
       "3           There are many people willing to lovingly prov...  depression   \n",
       "4           My girlfriend just quit drinking and she becam...  depression   \n",
       "10          I don't know how else to explain it. All I can...  depression   \n",
       "12          I tried telling my husband I was depressed, an...  depression   \n",
       "\n",
       "                                                   answerText  upvotes  views  \n",
       "questionID                                                                     \n",
       "1           This can be a difficult situation.  Typically,...        2   1026  \n",
       "3           I truly understand what you are saying. I want...        1     62  \n",
       "4           You're probably not going to like my answer.Yo...        3    824  \n",
       "10          Why do I feel empty?Feelings of emptiness—a la...        3    148  \n",
       "12          Oh dear.From what you write, your husband does...        1    240  "
      ]
     },
     "execution_count": 3,
     "metadata": {},
     "output_type": "execute_result"
    }
   ],
   "source": [
    "df_train.head()"
   ]
  },
  {
   "cell_type": "code",
   "execution_count": 4,
   "metadata": {},
   "outputs": [
    {
     "data": {
      "text/html": [
       "<div>\n",
       "<style scoped>\n",
       "    .dataframe tbody tr th:only-of-type {\n",
       "        vertical-align: middle;\n",
       "    }\n",
       "\n",
       "    .dataframe tbody tr th {\n",
       "        vertical-align: top;\n",
       "    }\n",
       "\n",
       "    .dataframe thead th {\n",
       "        text-align: right;\n",
       "    }\n",
       "</style>\n",
       "<table border=\"1\" class=\"dataframe\">\n",
       "  <thead>\n",
       "    <tr style=\"text-align: right;\">\n",
       "      <th></th>\n",
       "      <th>questionText</th>\n",
       "      <th>answerText</th>\n",
       "      <th>text</th>\n",
       "    </tr>\n",
       "    <tr>\n",
       "      <th>questionID</th>\n",
       "      <th></th>\n",
       "      <th></th>\n",
       "      <th></th>\n",
       "    </tr>\n",
       "  </thead>\n",
       "  <tbody>\n",
       "    <tr>\n",
       "      <th>1</th>\n",
       "      <td>I have been diagnosed with general anxiety and...</td>\n",
       "      <td>This can be a difficult situation.  Typically,...</td>\n",
       "      <td>&lt;s&gt;[INST] &lt;&lt;SYS&gt;&gt;\\nYou are a helpful and hones...</td>\n",
       "    </tr>\n",
       "    <tr>\n",
       "      <th>3</th>\n",
       "      <td>There are many people willing to lovingly prov...</td>\n",
       "      <td>I truly understand what you are saying. I want...</td>\n",
       "      <td>&lt;s&gt;[INST] &lt;&lt;SYS&gt;&gt;\\nYou are a helpful and hones...</td>\n",
       "    </tr>\n",
       "    <tr>\n",
       "      <th>4</th>\n",
       "      <td>My girlfriend just quit drinking and she becam...</td>\n",
       "      <td>You're probably not going to like my answer.Yo...</td>\n",
       "      <td>&lt;s&gt;[INST] &lt;&lt;SYS&gt;&gt;\\nYou are a helpful and hones...</td>\n",
       "    </tr>\n",
       "    <tr>\n",
       "      <th>10</th>\n",
       "      <td>I don't know how else to explain it. All I can...</td>\n",
       "      <td>Why do I feel empty?Feelings of emptiness—a la...</td>\n",
       "      <td>&lt;s&gt;[INST] &lt;&lt;SYS&gt;&gt;\\nYou are a helpful and hones...</td>\n",
       "    </tr>\n",
       "    <tr>\n",
       "      <th>12</th>\n",
       "      <td>I tried telling my husband I was depressed, an...</td>\n",
       "      <td>Oh dear.From what you write, your husband does...</td>\n",
       "      <td>&lt;s&gt;[INST] &lt;&lt;SYS&gt;&gt;\\nYou are a helpful and hones...</td>\n",
       "    </tr>\n",
       "  </tbody>\n",
       "</table>\n",
       "</div>"
      ],
      "text/plain": [
       "                                                 questionText  \\\n",
       "questionID                                                      \n",
       "1           I have been diagnosed with general anxiety and...   \n",
       "3           There are many people willing to lovingly prov...   \n",
       "4           My girlfriend just quit drinking and she becam...   \n",
       "10          I don't know how else to explain it. All I can...   \n",
       "12          I tried telling my husband I was depressed, an...   \n",
       "\n",
       "                                                   answerText  \\\n",
       "questionID                                                      \n",
       "1           This can be a difficult situation.  Typically,...   \n",
       "3           I truly understand what you are saying. I want...   \n",
       "4           You're probably not going to like my answer.Yo...   \n",
       "10          Why do I feel empty?Feelings of emptiness—a la...   \n",
       "12          Oh dear.From what you write, your husband does...   \n",
       "\n",
       "                                                         text  \n",
       "questionID                                                     \n",
       "1           <s>[INST] <<SYS>>\\nYou are a helpful and hones...  \n",
       "3           <s>[INST] <<SYS>>\\nYou are a helpful and hones...  \n",
       "4           <s>[INST] <<SYS>>\\nYou are a helpful and hones...  \n",
       "10          <s>[INST] <<SYS>>\\nYou are a helpful and hones...  \n",
       "12          <s>[INST] <<SYS>>\\nYou are a helpful and hones...  "
      ]
     },
     "execution_count": 4,
     "metadata": {},
     "output_type": "execute_result"
    }
   ],
   "source": [
    "def combine_question_answer(question, answer):\n",
    "    system_msg = \"<<SYS>>\\n\" \\\n",
    "        + \"You are a helpful and honest psychologist.\" \\\n",
    "        + \"Respond to the following question from the user.\" \\\n",
    "        + \"Your answers should not include any critical, dangerous or illegal content.\" \\\n",
    "        + \"Your answers should be unbiased and encouraging.\\n\" \\\n",
    "        + \"<</SYS>>\\n\\n\"\n",
    "    prompt = f\"<s>[INST] {system_msg}###User: {question}###You: [/INST]{answer}</s>\"\n",
    "    return prompt\n",
    "\n",
    "df_train[\"text\"] = df_train.apply(\n",
    "    lambda row: combine_question_answer(row.questionText, row.answerText), axis=1\n",
    ")\n",
    "df_train[[\"questionText\", \"answerText\", \"text\"]].head()"
   ]
  },
  {
   "cell_type": "code",
   "execution_count": 5,
   "metadata": {},
   "outputs": [
    {
     "name": "stdout",
     "output_type": "stream",
     "text": [
      "{'text': '<s>[INST] <<SYS>>\\nYou are a helpful and honest psychologist.Respond to the following question from the user.Your answers should not include any critical, dangerous or illegal content.Your answers should be unbiased and encouraging.\\n<</SYS>>\\n\\n###User: I am not sure if I am depressed. I don\\'t know how to bring it up to my parents, and that makes me miserable.###You: [/INST]You are not alone, many people fear opening up to family members about the topic of depression or mental illness. There are many different reason why some may fear telling their parents. The most common thoughts I hear in my office are: \" My parents won\\'t understand me\", I may cause more problems to the family\", \"I am worried that something bad may happen if I tell them\".\\xa0If possible express your current concerns and worries to your parents. You can start the conversation with your parents by saying \"I have not been feeling like myself lately, and I may want to see a counselor\".\\xa0I think you are doing the right thing by going on this website and asking for help. Just a helpful tip: positive self-talk can be beneficial before having difficult conversations with others. For example, tell yourself something positive before talking to your parents such as \"I feel confident in myself, and I am doing this to overcome my fear of talking to my parents\" can help to decrease the anxiety you are feeling leading up to the conversation.\\xa0I would recommend if you are feeling depressed or down it would be beneficial to seek counseling to understand your current thoughts and behaviors. Best of luck and hope you decide to start counseling.</s>', 'questionID': 93}\n"
     ]
    }
   ],
   "source": [
    "df_train = df_train.sample(frac=1)\n",
    "dataset_train = Dataset.from_pandas(df_train[[\"text\"]][:int(df_train.shape[0]*0.8)])\n",
    "dataset_eval = Dataset.from_pandas(df_train[[\"text\"]][int(df_train.shape[0]*0.8):])\n",
    "for text in dataset_train:\n",
    "    print(text)\n",
    "    break"
   ]
  },
  {
   "cell_type": "markdown",
   "metadata": {},
   "source": [
    "### Load tokenizer and base model"
   ]
  },
  {
   "cell_type": "code",
   "execution_count": 6,
   "metadata": {},
   "outputs": [],
   "source": [
    "base_model = \"meta-llama/Llama-2-7b-chat-hf\""
   ]
  },
  {
   "cell_type": "code",
   "execution_count": 7,
   "metadata": {},
   "outputs": [],
   "source": [
    "tokenizer = AutoTokenizer.from_pretrained(base_model, trust_remote_code=True)\n",
    "tokenizer.pad_token = tokenizer.eos_token\n",
    "tokenizer.padding_side = \"right\""
   ]
  },
  {
   "cell_type": "code",
   "execution_count": 8,
   "metadata": {},
   "outputs": [],
   "source": [
    "compute_dtype = getattr(torch, \"float16\")\n",
    "\n",
    "quant_config = BitsAndBytesConfig(\n",
    "    load_in_4bit=True,\n",
    "    bnb_4bit_quant_type=\"nf4\",\n",
    "    bnb_4bit_compute_dtype=compute_dtype,\n",
    "    bnb_4bit_use_double_quant=False,\n",
    ")"
   ]
  },
  {
   "cell_type": "code",
   "execution_count": 9,
   "metadata": {},
   "outputs": [
    {
     "data": {
      "application/vnd.jupyter.widget-view+json": {
       "model_id": "9e85b21e60044c2daab37e960d769556",
       "version_major": 2,
       "version_minor": 0
      },
      "text/plain": [
       "Loading checkpoint shards:   0%|          | 0/2 [00:00<?, ?it/s]"
      ]
     },
     "metadata": {},
     "output_type": "display_data"
    }
   ],
   "source": [
    "model = AutoModelForCausalLM.from_pretrained(\n",
    "    base_model,\n",
    "    quantization_config=quant_config,\n",
    "    device_map=\"auto\"\n",
    ")\n",
    "model.config.use_cache = False\n",
    "model.config.pretraining_tp = 1"
   ]
  },
  {
   "cell_type": "code",
   "execution_count": 10,
   "metadata": {},
   "outputs": [
    {
     "name": "stdout",
     "output_type": "stream",
     "text": [
      "LlamaForCausalLM(\n",
      "  (model): LlamaModel(\n",
      "    (embed_tokens): Embedding(32000, 4096)\n",
      "    (layers): ModuleList(\n",
      "      (0-31): 32 x LlamaDecoderLayer(\n",
      "        (self_attn): LlamaSdpaAttention(\n",
      "          (q_proj): Linear4bit(in_features=4096, out_features=4096, bias=False)\n",
      "          (k_proj): Linear4bit(in_features=4096, out_features=4096, bias=False)\n",
      "          (v_proj): Linear4bit(in_features=4096, out_features=4096, bias=False)\n",
      "          (o_proj): Linear4bit(in_features=4096, out_features=4096, bias=False)\n",
      "          (rotary_emb): LlamaRotaryEmbedding()\n",
      "        )\n",
      "        (mlp): LlamaMLP(\n",
      "          (gate_proj): Linear4bit(in_features=4096, out_features=11008, bias=False)\n",
      "          (up_proj): Linear4bit(in_features=4096, out_features=11008, bias=False)\n",
      "          (down_proj): Linear4bit(in_features=11008, out_features=4096, bias=False)\n",
      "          (act_fn): SiLU()\n",
      "        )\n",
      "        (input_layernorm): LlamaRMSNorm()\n",
      "        (post_attention_layernorm): LlamaRMSNorm()\n",
      "      )\n",
      "    )\n",
      "    (norm): LlamaRMSNorm()\n",
      "  )\n",
      "  (lm_head): Linear(in_features=4096, out_features=32000, bias=False)\n",
      ")\n"
     ]
    }
   ],
   "source": [
    "print(model)"
   ]
  },
  {
   "cell_type": "markdown",
   "metadata": {},
   "source": [
    "### Set params for PEFT fine-tuning"
   ]
  },
  {
   "cell_type": "code",
   "execution_count": 11,
   "metadata": {},
   "outputs": [],
   "source": [
    "peft_params = LoraConfig(\n",
    "    lora_alpha=16,\n",
    "    lora_dropout=0.1,\n",
    "    r=64,\n",
    "    bias=\"none\",\n",
    "    task_type=\"CAUSAL_LM\",\n",
    ")"
   ]
  },
  {
   "cell_type": "code",
   "execution_count": 12,
   "metadata": {},
   "outputs": [],
   "source": [
    "timestamp = datetime.now().strftime(\"%y%m%d_%H%M\")\n",
    "training_params = TrainingArguments(\n",
    "    output_dir=f\"./results/results_{timestamp}\",\n",
    "    num_train_epochs=3,\n",
    "    per_device_train_batch_size=2,\n",
    "    gradient_accumulation_steps=2,\n",
    "    optim=\"paged_adamw_32bit\",\n",
    "    evaluation_strategy=\"steps\",\n",
    "    save_steps=10,\n",
    "    save_total_limit=5,\n",
    "    logging_steps=10,\n",
    "    learning_rate=2e-4,\n",
    "    weight_decay=0.001,\n",
    "    bf16=False,\n",
    "    max_grad_norm=0.3,\n",
    "    max_steps=-1,\n",
    "    warmup_ratio=0.03,\n",
    "    group_by_length=True,\n",
    "    lr_scheduler_type=\"constant\",\n",
    "    report_to=\"tensorboard\",\n",
    "    load_best_model_at_end=True,\n",
    ")"
   ]
  },
  {
   "cell_type": "code",
   "execution_count": 13,
   "metadata": {},
   "outputs": [
    {
     "data": {
      "application/vnd.jupyter.widget-view+json": {
       "model_id": "5738050c1cf2415cb4e5f75c2131c2fa",
       "version_major": 2,
       "version_minor": 0
      },
      "text/plain": [
       "Map:   0%|          | 0/356 [00:00<?, ? examples/s]"
      ]
     },
     "metadata": {},
     "output_type": "display_data"
    },
    {
     "data": {
      "application/vnd.jupyter.widget-view+json": {
       "model_id": "eee3fa9e9b304c8e9b78aed7e736534b",
       "version_major": 2,
       "version_minor": 0
      },
      "text/plain": [
       "Map:   0%|          | 0/89 [00:00<?, ? examples/s]"
      ]
     },
     "metadata": {},
     "output_type": "display_data"
    }
   ],
   "source": [
    "trainer = SFTTrainer(\n",
    "    model=model,\n",
    "    train_dataset=dataset_train,\n",
    "    eval_dataset=dataset_eval,\n",
    "    peft_config=peft_params,\n",
    "    dataset_text_field=\"text\",\n",
    "    max_seq_length=512,\n",
    "    tokenizer=tokenizer,\n",
    "    args=training_params,\n",
    "    packing=False,\n",
    ")"
   ]
  },
  {
   "cell_type": "markdown",
   "metadata": {},
   "source": [
    "### Model fine-tuning"
   ]
  },
  {
   "cell_type": "code",
   "execution_count": 14,
   "metadata": {},
   "outputs": [
    {
     "data": {
      "text/html": [
       "\n",
       "    <div>\n",
       "      \n",
       "      <progress value='267' max='267' style='width:300px; height:20px; vertical-align: middle;'></progress>\n",
       "      [267/267 1:00:05, Epoch 3/3]\n",
       "    </div>\n",
       "    <table border=\"1\" class=\"dataframe\">\n",
       "  <thead>\n",
       " <tr style=\"text-align: left;\">\n",
       "      <th>Step</th>\n",
       "      <th>Training Loss</th>\n",
       "      <th>Validation Loss</th>\n",
       "    </tr>\n",
       "  </thead>\n",
       "  <tbody>\n",
       "    <tr>\n",
       "      <td>10</td>\n",
       "      <td>2.556700</td>\n",
       "      <td>2.469196</td>\n",
       "    </tr>\n",
       "    <tr>\n",
       "      <td>20</td>\n",
       "      <td>2.349600</td>\n",
       "      <td>2.118536</td>\n",
       "    </tr>\n",
       "    <tr>\n",
       "      <td>30</td>\n",
       "      <td>2.038300</td>\n",
       "      <td>1.894948</td>\n",
       "    </tr>\n",
       "    <tr>\n",
       "      <td>40</td>\n",
       "      <td>1.765200</td>\n",
       "      <td>1.851612</td>\n",
       "    </tr>\n",
       "    <tr>\n",
       "      <td>50</td>\n",
       "      <td>1.720600</td>\n",
       "      <td>1.831419</td>\n",
       "    </tr>\n",
       "    <tr>\n",
       "      <td>60</td>\n",
       "      <td>1.827500</td>\n",
       "      <td>1.822108</td>\n",
       "    </tr>\n",
       "    <tr>\n",
       "      <td>70</td>\n",
       "      <td>1.733800</td>\n",
       "      <td>1.816305</td>\n",
       "    </tr>\n",
       "    <tr>\n",
       "      <td>80</td>\n",
       "      <td>1.810200</td>\n",
       "      <td>1.809533</td>\n",
       "    </tr>\n",
       "    <tr>\n",
       "      <td>90</td>\n",
       "      <td>1.573700</td>\n",
       "      <td>1.808826</td>\n",
       "    </tr>\n",
       "    <tr>\n",
       "      <td>100</td>\n",
       "      <td>1.813000</td>\n",
       "      <td>1.804062</td>\n",
       "    </tr>\n",
       "    <tr>\n",
       "      <td>110</td>\n",
       "      <td>1.669100</td>\n",
       "      <td>1.801648</td>\n",
       "    </tr>\n",
       "    <tr>\n",
       "      <td>120</td>\n",
       "      <td>1.746000</td>\n",
       "      <td>1.799951</td>\n",
       "    </tr>\n",
       "    <tr>\n",
       "      <td>130</td>\n",
       "      <td>1.633500</td>\n",
       "      <td>1.800110</td>\n",
       "    </tr>\n",
       "    <tr>\n",
       "      <td>140</td>\n",
       "      <td>1.674900</td>\n",
       "      <td>1.800220</td>\n",
       "    </tr>\n",
       "    <tr>\n",
       "      <td>150</td>\n",
       "      <td>1.679600</td>\n",
       "      <td>1.796259</td>\n",
       "    </tr>\n",
       "    <tr>\n",
       "      <td>160</td>\n",
       "      <td>1.635700</td>\n",
       "      <td>1.799690</td>\n",
       "    </tr>\n",
       "    <tr>\n",
       "      <td>170</td>\n",
       "      <td>1.753300</td>\n",
       "      <td>1.795589</td>\n",
       "    </tr>\n",
       "    <tr>\n",
       "      <td>180</td>\n",
       "      <td>1.654700</td>\n",
       "      <td>1.796508</td>\n",
       "    </tr>\n",
       "    <tr>\n",
       "      <td>190</td>\n",
       "      <td>1.770500</td>\n",
       "      <td>1.799630</td>\n",
       "    </tr>\n",
       "    <tr>\n",
       "      <td>200</td>\n",
       "      <td>1.444700</td>\n",
       "      <td>1.806652</td>\n",
       "    </tr>\n",
       "    <tr>\n",
       "      <td>210</td>\n",
       "      <td>1.738300</td>\n",
       "      <td>1.805906</td>\n",
       "    </tr>\n",
       "    <tr>\n",
       "      <td>220</td>\n",
       "      <td>1.603200</td>\n",
       "      <td>1.805211</td>\n",
       "    </tr>\n",
       "    <tr>\n",
       "      <td>230</td>\n",
       "      <td>1.654300</td>\n",
       "      <td>1.806989</td>\n",
       "    </tr>\n",
       "    <tr>\n",
       "      <td>240</td>\n",
       "      <td>1.611600</td>\n",
       "      <td>1.803989</td>\n",
       "    </tr>\n",
       "    <tr>\n",
       "      <td>250</td>\n",
       "      <td>1.618500</td>\n",
       "      <td>1.806012</td>\n",
       "    </tr>\n",
       "    <tr>\n",
       "      <td>260</td>\n",
       "      <td>1.734800</td>\n",
       "      <td>1.800389</td>\n",
       "    </tr>\n",
       "  </tbody>\n",
       "</table><p>"
      ],
      "text/plain": [
       "<IPython.core.display.HTML object>"
      ]
     },
     "metadata": {},
     "output_type": "display_data"
    },
    {
     "data": {
      "text/plain": [
       "TrainOutput(global_step=267, training_loss=1.7556427837757582, metrics={'train_runtime': 3612.157, 'train_samples_per_second': 0.296, 'train_steps_per_second': 0.074, 'total_flos': 1.6067174682476544e+16, 'train_loss': 1.7556427837757582, 'epoch': 3.0})"
      ]
     },
     "execution_count": 14,
     "metadata": {},
     "output_type": "execute_result"
    }
   ],
   "source": [
    "trainer.train()"
   ]
  },
  {
   "cell_type": "code",
   "execution_count": 15,
   "metadata": {},
   "outputs": [
    {
     "data": {
      "text/plain": [
       "('models/model_240411_0952/tokenizer_config.json',\n",
       " 'models/model_240411_0952/special_tokens_map.json',\n",
       " 'models/model_240411_0952/tokenizer.model',\n",
       " 'models/model_240411_0952/added_tokens.json',\n",
       " 'models/model_240411_0952/tokenizer.json')"
      ]
     },
     "execution_count": 15,
     "metadata": {},
     "output_type": "execute_result"
    }
   ],
   "source": [
    "trainer.model.save_pretrained(f\"models/model_{timestamp}\")\n",
    "trainer.tokenizer.save_pretrained(f\"models/model_{timestamp}\")"
   ]
  },
  {
   "cell_type": "markdown",
   "metadata": {},
   "source": [
    "### Model inferencing demo"
   ]
  },
  {
   "cell_type": "code",
   "execution_count": 16,
   "metadata": {},
   "outputs": [
    {
     "name": "stdout",
     "output_type": "stream",
     "text": [
      "<s>[INST] <<SYS>>\n",
      "You are a helpful and honest psychologist.Respond to the following question from the user.Your answers should not include any critical, dangerous or illegal content.Your answers should be unbiased and encouraging.\n",
      "<</SYS>>\n",
      "\n",
      "###User: I am really worried about my schoolwork. I think I can never finish them on time and is likely to fail all my exams this semester. What should I do?###You: [/INST]I think you are on the right track.   You are worried about your school work, and that is a good thing.   You are aware of the potential consequences of not completing your work on time, and that is also a good thing.   I think you should talk to your teacher about your concerns.   They may be able to help you come up with a plan to help you get your work done on time.   Also, you can also try breaking down your work into smaller tasks, and then set deadlines for yourself to complete each one.   You can also try to find a quiet place to study, and try to avoid distractions.   I hope this helps\n"
     ]
    }
   ],
   "source": [
    "def get_question_prompt(question):\n",
    "    system_msg = \"<<SYS>>\\n\" \\\n",
    "        + \"You are a helpful and honest psychologist.\" \\\n",
    "        + \"Respond to the following question from the user.\" \\\n",
    "        + \"Your answers should not include any critical, dangerous or illegal content.\" \\\n",
    "        + \"Your answers should be unbiased and encouraging.\\n\" \\\n",
    "        + \"<</SYS>>\\n\\n\"\n",
    "    prompt = f\"<s>[INST] {system_msg}###User: {question}###You: [/INST]\"\n",
    "    return prompt\n",
    "\n",
    "question = \"I am really worried about my schoolwork. I think I can never finish them on time and is likely to fail all my exams this semester. What should I do?\"\n",
    "pipe = pipeline(task=\"text-generation\", model=model, tokenizer=tokenizer, max_length=256)\n",
    "result = pipe(get_question_prompt(question))\n",
    "print(result[0]['generated_text'])"
   ]
  },
  {
   "cell_type": "markdown",
   "metadata": {},
   "source": [
    "### Visualization"
   ]
  },
  {
   "cell_type": "code",
   "execution_count": 4,
   "metadata": {},
   "outputs": [],
   "source": [
    "# timestamp = \"240411_0952\"\n",
    "# log_dir = f\"results/results_{timestamp}/runs\"\n",
    "# notebook.start(f\"--logdir {log_dir} --port 4000\")"
   ]
  },
  {
   "cell_type": "code",
   "execution_count": null,
   "metadata": {},
   "outputs": [],
   "source": []
  }
 ],
 "metadata": {
  "kernelspec": {
   "display_name": "apai-nlp",
   "language": "python",
   "name": "python3"
  },
  "language_info": {
   "codemirror_mode": {
    "name": "ipython",
    "version": 3
   },
   "file_extension": ".py",
   "mimetype": "text/x-python",
   "name": "python",
   "nbconvert_exporter": "python",
   "pygments_lexer": "ipython3",
   "version": "3.11.8"
  }
 },
 "nbformat": 4,
 "nbformat_minor": 2
}
