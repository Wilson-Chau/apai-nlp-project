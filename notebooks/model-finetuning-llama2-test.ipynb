{
 "cells": [
  {
   "cell_type": "markdown",
   "metadata": {},
   "source": [
    "# Model inferencing (fine-tuned Llama-2-7b-chat)"
   ]
  },
  {
   "cell_type": "code",
   "execution_count": 16,
   "metadata": {},
   "outputs": [],
   "source": [
    "import os\n",
    "import re\n",
    "import torch\n",
    "import pandas as pd\n",
    "import warnings\n",
    "from datasets import Dataset\n",
    "from peft import PeftModel\n",
    "from tqdm import tqdm\n",
    "from transformers import (\n",
    "    AutoModelForCausalLM,\n",
    "    AutoTokenizer,\n",
    "    BitsAndBytesConfig,\n",
    "    pipeline,\n",
    ")\n",
    "\n",
    "# os.chdir(\"..\")\n",
    "warnings.filterwarnings(\"ignore\", category=UserWarning)"
   ]
  },
  {
   "cell_type": "markdown",
   "metadata": {},
   "source": [
    "### Load and preprocess testing data"
   ]
  },
  {
   "cell_type": "code",
   "execution_count": 2,
   "metadata": {},
   "outputs": [
    {
     "name": "stdout",
     "output_type": "stream",
     "text": [
      "(112, 6)\n"
     ]
    }
   ],
   "source": [
    "test_path = \"data/processed/split/counsel-chat-best-answer-test.csv\"\n",
    "df_test = pd.read_csv(test_path).set_index(\"questionID\")\n",
    "print(df_test.shape)"
   ]
  },
  {
   "cell_type": "code",
   "execution_count": 3,
   "metadata": {},
   "outputs": [
    {
     "data": {
      "text/html": [
       "<div>\n",
       "<style scoped>\n",
       "    .dataframe tbody tr th:only-of-type {\n",
       "        vertical-align: middle;\n",
       "    }\n",
       "\n",
       "    .dataframe tbody tr th {\n",
       "        vertical-align: top;\n",
       "    }\n",
       "\n",
       "    .dataframe thead th {\n",
       "        text-align: right;\n",
       "    }\n",
       "</style>\n",
       "<table border=\"1\" class=\"dataframe\">\n",
       "  <thead>\n",
       "    <tr style=\"text-align: right;\">\n",
       "      <th></th>\n",
       "      <th>questionTitle</th>\n",
       "      <th>questionText</th>\n",
       "      <th>topic</th>\n",
       "      <th>answerText</th>\n",
       "      <th>upvotes</th>\n",
       "      <th>views</th>\n",
       "    </tr>\n",
       "    <tr>\n",
       "      <th>questionID</th>\n",
       "      <th></th>\n",
       "      <th></th>\n",
       "      <th></th>\n",
       "      <th></th>\n",
       "      <th></th>\n",
       "      <th></th>\n",
       "    </tr>\n",
       "  </thead>\n",
       "  <tbody>\n",
       "    <tr>\n",
       "      <th>0</th>\n",
       "      <td>Do I have too many issues for counseling?</td>\n",
       "      <td>I have so many issues to address. I have a his...</td>\n",
       "      <td>depression</td>\n",
       "      <td>It is very common for people to have multiple ...</td>\n",
       "      <td>3</td>\n",
       "      <td>1971</td>\n",
       "    </tr>\n",
       "    <tr>\n",
       "      <th>2</th>\n",
       "      <td>I feel like my mother doesn't support me</td>\n",
       "      <td>My mother is combative with me when I say I do...</td>\n",
       "      <td>depression</td>\n",
       "      <td>Do you live with your mom and have constant in...</td>\n",
       "      <td>2</td>\n",
       "      <td>187</td>\n",
       "    </tr>\n",
       "    <tr>\n",
       "      <th>11</th>\n",
       "      <td>Why am I experiencing dfficulty maintaining an...</td>\n",
       "      <td>A few years ago I was making love to my wife w...</td>\n",
       "      <td>depression</td>\n",
       "      <td>When I'm working with men with this type of si...</td>\n",
       "      <td>1</td>\n",
       "      <td>194</td>\n",
       "    </tr>\n",
       "    <tr>\n",
       "      <th>14</th>\n",
       "      <td>Can I change my feeling of being worthless to ...</td>\n",
       "      <td>I'm going through some things with my feelings...</td>\n",
       "      <td>depression</td>\n",
       "      <td>Hello, and thank you for your question and see...</td>\n",
       "      <td>2</td>\n",
       "      <td>5423</td>\n",
       "    </tr>\n",
       "    <tr>\n",
       "      <th>16</th>\n",
       "      <td>How can I stop treating people badly?</td>\n",
       "      <td>I feel like I'm so alone. I treat people horri...</td>\n",
       "      <td>depression</td>\n",
       "      <td>Give yourself a little more credit for self-ob...</td>\n",
       "      <td>1</td>\n",
       "      <td>1029</td>\n",
       "    </tr>\n",
       "  </tbody>\n",
       "</table>\n",
       "</div>"
      ],
      "text/plain": [
       "                                                questionTitle  \\\n",
       "questionID                                                      \n",
       "0                   Do I have too many issues for counseling?   \n",
       "2                    I feel like my mother doesn't support me   \n",
       "11          Why am I experiencing dfficulty maintaining an...   \n",
       "14          Can I change my feeling of being worthless to ...   \n",
       "16                      How can I stop treating people badly?   \n",
       "\n",
       "                                                 questionText       topic  \\\n",
       "questionID                                                                  \n",
       "0           I have so many issues to address. I have a his...  depression   \n",
       "2           My mother is combative with me when I say I do...  depression   \n",
       "11          A few years ago I was making love to my wife w...  depression   \n",
       "14          I'm going through some things with my feelings...  depression   \n",
       "16          I feel like I'm so alone. I treat people horri...  depression   \n",
       "\n",
       "                                                   answerText  upvotes  views  \n",
       "questionID                                                                     \n",
       "0           It is very common for people to have multiple ...        3   1971  \n",
       "2           Do you live with your mom and have constant in...        2    187  \n",
       "11          When I'm working with men with this type of si...        1    194  \n",
       "14          Hello, and thank you for your question and see...        2   5423  \n",
       "16          Give yourself a little more credit for self-ob...        1   1029  "
      ]
     },
     "execution_count": 3,
     "metadata": {},
     "output_type": "execute_result"
    }
   ],
   "source": [
    "df_test.head()"
   ]
  },
  {
   "cell_type": "code",
   "execution_count": 4,
   "metadata": {},
   "outputs": [
    {
     "data": {
      "text/html": [
       "<div>\n",
       "<style scoped>\n",
       "    .dataframe tbody tr th:only-of-type {\n",
       "        vertical-align: middle;\n",
       "    }\n",
       "\n",
       "    .dataframe tbody tr th {\n",
       "        vertical-align: top;\n",
       "    }\n",
       "\n",
       "    .dataframe thead th {\n",
       "        text-align: right;\n",
       "    }\n",
       "</style>\n",
       "<table border=\"1\" class=\"dataframe\">\n",
       "  <thead>\n",
       "    <tr style=\"text-align: right;\">\n",
       "      <th></th>\n",
       "      <th>questionText</th>\n",
       "      <th>prompt</th>\n",
       "    </tr>\n",
       "    <tr>\n",
       "      <th>questionID</th>\n",
       "      <th></th>\n",
       "      <th></th>\n",
       "    </tr>\n",
       "  </thead>\n",
       "  <tbody>\n",
       "    <tr>\n",
       "      <th>0</th>\n",
       "      <td>I have so many issues to address. I have a his...</td>\n",
       "      <td>&lt;s&gt;[INST] &lt;&lt;SYS&gt;&gt;\\nYou are a helpful and hones...</td>\n",
       "    </tr>\n",
       "    <tr>\n",
       "      <th>2</th>\n",
       "      <td>My mother is combative with me when I say I do...</td>\n",
       "      <td>&lt;s&gt;[INST] &lt;&lt;SYS&gt;&gt;\\nYou are a helpful and hones...</td>\n",
       "    </tr>\n",
       "    <tr>\n",
       "      <th>11</th>\n",
       "      <td>A few years ago I was making love to my wife w...</td>\n",
       "      <td>&lt;s&gt;[INST] &lt;&lt;SYS&gt;&gt;\\nYou are a helpful and hones...</td>\n",
       "    </tr>\n",
       "    <tr>\n",
       "      <th>14</th>\n",
       "      <td>I'm going through some things with my feelings...</td>\n",
       "      <td>&lt;s&gt;[INST] &lt;&lt;SYS&gt;&gt;\\nYou are a helpful and hones...</td>\n",
       "    </tr>\n",
       "    <tr>\n",
       "      <th>16</th>\n",
       "      <td>I feel like I'm so alone. I treat people horri...</td>\n",
       "      <td>&lt;s&gt;[INST] &lt;&lt;SYS&gt;&gt;\\nYou are a helpful and hones...</td>\n",
       "    </tr>\n",
       "  </tbody>\n",
       "</table>\n",
       "</div>"
      ],
      "text/plain": [
       "                                                 questionText  \\\n",
       "questionID                                                      \n",
       "0           I have so many issues to address. I have a his...   \n",
       "2           My mother is combative with me when I say I do...   \n",
       "11          A few years ago I was making love to my wife w...   \n",
       "14          I'm going through some things with my feelings...   \n",
       "16          I feel like I'm so alone. I treat people horri...   \n",
       "\n",
       "                                                       prompt  \n",
       "questionID                                                     \n",
       "0           <s>[INST] <<SYS>>\\nYou are a helpful and hones...  \n",
       "2           <s>[INST] <<SYS>>\\nYou are a helpful and hones...  \n",
       "11          <s>[INST] <<SYS>>\\nYou are a helpful and hones...  \n",
       "14          <s>[INST] <<SYS>>\\nYou are a helpful and hones...  \n",
       "16          <s>[INST] <<SYS>>\\nYou are a helpful and hones...  "
      ]
     },
     "execution_count": 4,
     "metadata": {},
     "output_type": "execute_result"
    }
   ],
   "source": [
    "def get_question_prompt(question):\n",
    "    system_msg = \"<<SYS>>\\n\" \\\n",
    "        + \"You are a helpful and honest psychologist.\" \\\n",
    "        + \"Respond to the following question from the user.\" \\\n",
    "        + \"Your answers should not include any critical, dangerous or illegal content.\" \\\n",
    "        + \"Your answers should be unbiased and encouraging.\\n\" \\\n",
    "        + \"<</SYS>>\\n\\n\"\n",
    "    prompt = f\"<s>[INST] {system_msg}###User: {question}###You: [/INST]\"\n",
    "    return prompt\n",
    "\n",
    "df_test[\"prompt\"] = df_test[\"questionText\"].apply(get_question_prompt)\n",
    "df_test[[\"questionText\", \"prompt\"]].head()"
   ]
  },
  {
   "cell_type": "code",
   "execution_count": 18,
   "metadata": {},
   "outputs": [
    {
     "name": "stdout",
     "output_type": "stream",
     "text": [
      "<s>[INST] <<SYS>>\n",
      "You are a helpful and honest psychologist.Respond to the following question from the user.Your answers should not include any critical, dangerous or illegal content.Your answers should be unbiased and encouraging.\n",
      "<</SYS>>\n",
      "\n",
      "###User: I have so many issues to address. I have a history of sexual abuse, I’m a breast cancer survivor and I am a lifetime insomniac.    I have a long history of depression and I’m beginning to have anxiety. I have low self esteem but I’ve been happily married for almost 35 years.\n",
      "   I’ve never had counseling about any of this. Do I have too many issues to address in counseling?###You: [/INST]\n"
     ]
    }
   ],
   "source": [
    "dataset_test = Dataset.from_pandas(df_test)\n",
    "for entry in dataset_test:\n",
    "    print(entry[\"prompt\"])\n",
    "    break"
   ]
  },
  {
   "cell_type": "markdown",
   "metadata": {},
   "source": [
    "### Load fine-tuned model"
   ]
  },
  {
   "cell_type": "code",
   "execution_count": 5,
   "metadata": {},
   "outputs": [],
   "source": [
    "base_model = \"meta-llama/Llama-2-7b-chat-hf\""
   ]
  },
  {
   "cell_type": "code",
   "execution_count": 6,
   "metadata": {},
   "outputs": [],
   "source": [
    "tokenizer = AutoTokenizer.from_pretrained(base_model, trust_remote_code=True)\n",
    "tokenizer.pad_token = tokenizer.eos_token\n",
    "tokenizer.padding_side = \"right\""
   ]
  },
  {
   "cell_type": "code",
   "execution_count": 7,
   "metadata": {},
   "outputs": [],
   "source": [
    "compute_dtype = getattr(torch, \"float16\")\n",
    "\n",
    "quant_config = BitsAndBytesConfig(\n",
    "    load_in_4bit=True,\n",
    "    bnb_4bit_quant_type=\"nf4\",\n",
    "    bnb_4bit_compute_dtype=compute_dtype,\n",
    "    bnb_4bit_use_double_quant=False,\n",
    ")"
   ]
  },
  {
   "cell_type": "code",
   "execution_count": 9,
   "metadata": {},
   "outputs": [
    {
     "data": {
      "application/vnd.jupyter.widget-view+json": {
       "model_id": "e964164221494130b657240d61f14d51",
       "version_major": 2,
       "version_minor": 0
      },
      "text/plain": [
       "Loading checkpoint shards:   0%|          | 0/2 [00:00<?, ?it/s]"
      ]
     },
     "metadata": {},
     "output_type": "display_data"
    }
   ],
   "source": [
    "base_model = AutoModelForCausalLM.from_pretrained(\n",
    "    base_model,\n",
    "    quantization_config=quant_config,\n",
    "    device_map=\"auto\"\n",
    ")\n",
    "base_model.config.use_cache = False\n",
    "base_model.config.pretraining_tp = 1"
   ]
  },
  {
   "cell_type": "code",
   "execution_count": 10,
   "metadata": {},
   "outputs": [
    {
     "name": "stderr",
     "output_type": "stream",
     "text": [
      "/home/wk3user3/.conda/envs/apai-nlp/lib/python3.11/site-packages/peft/tuners/lora/bnb.py:325: UserWarning: Merge lora module to 4-bit linear may get different generations due to rounding errors.\n",
      "  warnings.warn(\n"
     ]
    },
    {
     "data": {
      "text/plain": [
       "LlamaForCausalLM(\n",
       "  (model): LlamaModel(\n",
       "    (embed_tokens): Embedding(32000, 4096)\n",
       "    (layers): ModuleList(\n",
       "      (0-31): 32 x LlamaDecoderLayer(\n",
       "        (self_attn): LlamaSdpaAttention(\n",
       "          (q_proj): Linear4bit(in_features=4096, out_features=4096, bias=False)\n",
       "          (k_proj): Linear4bit(in_features=4096, out_features=4096, bias=False)\n",
       "          (v_proj): Linear4bit(in_features=4096, out_features=4096, bias=False)\n",
       "          (o_proj): Linear4bit(in_features=4096, out_features=4096, bias=False)\n",
       "          (rotary_emb): LlamaRotaryEmbedding()\n",
       "        )\n",
       "        (mlp): LlamaMLP(\n",
       "          (gate_proj): Linear4bit(in_features=4096, out_features=11008, bias=False)\n",
       "          (up_proj): Linear4bit(in_features=4096, out_features=11008, bias=False)\n",
       "          (down_proj): Linear4bit(in_features=11008, out_features=4096, bias=False)\n",
       "          (act_fn): SiLU()\n",
       "        )\n",
       "        (input_layernorm): LlamaRMSNorm()\n",
       "        (post_attention_layernorm): LlamaRMSNorm()\n",
       "      )\n",
       "    )\n",
       "    (norm): LlamaRMSNorm()\n",
       "  )\n",
       "  (lm_head): Linear(in_features=4096, out_features=32000, bias=False)\n",
       ")"
      ]
     },
     "execution_count": 10,
     "metadata": {},
     "output_type": "execute_result"
    }
   ],
   "source": [
    "finetuned_model = \"models/model_240411_0952\"\n",
    "model = PeftModel.from_pretrained(\n",
    "    model=base_model,\n",
    "    model_id=finetuned_model\n",
    ")\n",
    "model = model.merge_and_unload()\n",
    "model"
   ]
  },
  {
   "cell_type": "markdown",
   "metadata": {},
   "source": [
    "### Model inferencing demo"
   ]
  },
  {
   "cell_type": "code",
   "execution_count": 34,
   "metadata": {},
   "outputs": [],
   "source": [
    "pipe = pipeline(\n",
    "    task=\"text-generation\", \n",
    "    model=model, \n",
    "    tokenizer=tokenizer, \n",
    "    max_length=512,\n",
    "    device_map=\"auto\"\n",
    ")"
   ]
  },
  {
   "cell_type": "code",
   "execution_count": 35,
   "metadata": {},
   "outputs": [
    {
     "name": "stdout",
     "output_type": "stream",
     "text": [
      "<s>[INST] <<SYS>>\n",
      "You are a helpful and honest psychologist.Respond to the following question from the user.Your answers should not include any critical, dangerous or illegal content.Your answers should be unbiased and encouraging.\n",
      "<</SYS>>\n",
      "\n",
      "###User: I am really worried about my schoolwork. I think I can never finish them on time and is likely to fail all my exams this semester. What should I do?###You: [/INST]  Thank you for reaching out for support! It's completely normal to feel overwhelmed with schoolwork, especially during a busy semester. Here are some suggestions that may help you manage your workload and reduce your stress levels:\n",
      "\n",
      "1. Prioritize your tasks: Make a list of all your assignments and exams, and then prioritize them based on their importance and deadlines. Focus on completing the most critical tasks first, and then work your way down the list.\n",
      "2. Break down your tasks into smaller chunks: Large assignments can be overwhelming, but breaking them down into smaller tasks can make them feel more manageable. For example, if you have a research paper to write, break it down into smaller tasks like researching, outlining, drafting, and editing.\n",
      "3. Set realistic goals and deadlines: Be realistic about what you can accomplish in a day or a week, and set deadlines that are achievable. This can help you avoid feeling overwhelmed and increase your sense of control over your work.\n",
      "4. Seek help when needed: Don't be afraid to ask for help when you need it. Talk to your professors, classmates, or a tutor about your struggles, and seek their support. You may also find study groups or academic support services on campus that can help you stay on track.\n",
      "5. Take breaks and practice self-care: It's important to take breaks and practice self-care to avoid burnout. Take short breaks between study sessions, do something you enjoy, like exercise, reading, or spending time with friends and family, and make sure to get enough sleep.\n",
      "6. Stay organized: Keep all your notes and materials organized, and make sure you have everything you need for each class or study session. This can help you stay focused and avoid feeling overwhelmed\n"
     ]
    }
   ],
   "source": [
    "question = \"I am really worried about my schoolwork. I think I can never finish them on time and is likely to fail all my exams this semester. What should I do?\"\n",
    "result = pipe(get_question_prompt(question))\n",
    "print(result[0]['generated_text'])"
   ]
  },
  {
   "cell_type": "markdown",
   "metadata": {},
   "source": [
    "### Model inferencing on test data"
   ]
  },
  {
   "cell_type": "code",
   "execution_count": 36,
   "metadata": {},
   "outputs": [
    {
     "name": "stderr",
     "output_type": "stream",
     "text": [
      " 32%|███▏      | 9/28 [07:50<16:39, 52.61s/it]--- Logging error ---\n",
      "Traceback (most recent call last):\n",
      "  File \"/home/wk3user3/.conda/envs/apai-nlp/lib/python3.11/logging/__init__.py\", line 1110, in emit\n",
      "    msg = self.format(record)\n",
      "          ^^^^^^^^^^^^^^^^^^^\n",
      "  File \"/home/wk3user3/.conda/envs/apai-nlp/lib/python3.11/logging/__init__.py\", line 953, in format\n",
      "    return fmt.format(record)\n",
      "           ^^^^^^^^^^^^^^^^^^\n",
      "  File \"/home/wk3user3/.conda/envs/apai-nlp/lib/python3.11/logging/__init__.py\", line 687, in format\n",
      "    record.message = record.getMessage()\n",
      "                     ^^^^^^^^^^^^^^^^^^^\n",
      "  File \"/home/wk3user3/.conda/envs/apai-nlp/lib/python3.11/logging/__init__.py\", line 377, in getMessage\n",
      "    msg = msg % self.args\n",
      "          ~~~~^~~~~~~~~~~\n",
      "TypeError: not all arguments converted during string formatting\n",
      "Call stack:\n",
      "  File \"<frozen runpy>\", line 198, in _run_module_as_main\n",
      "  File \"<frozen runpy>\", line 88, in _run_code\n",
      "  File \"/home/wk3user3/.conda/envs/apai-nlp/lib/python3.11/site-packages/ipykernel_launcher.py\", line 18, in <module>\n",
      "    app.launch_new_instance()\n",
      "  File \"/home/wk3user3/.conda/envs/apai-nlp/lib/python3.11/site-packages/traitlets/config/application.py\", line 1075, in launch_instance\n",
      "    app.start()\n",
      "  File \"/home/wk3user3/.conda/envs/apai-nlp/lib/python3.11/site-packages/ipykernel/kernelapp.py\", line 739, in start\n",
      "    self.io_loop.start()\n",
      "  File \"/home/wk3user3/.conda/envs/apai-nlp/lib/python3.11/site-packages/tornado/platform/asyncio.py\", line 205, in start\n",
      "    self.asyncio_loop.run_forever()\n",
      "  File \"/home/wk3user3/.conda/envs/apai-nlp/lib/python3.11/asyncio/base_events.py\", line 608, in run_forever\n",
      "    self._run_once()\n",
      "  File \"/home/wk3user3/.conda/envs/apai-nlp/lib/python3.11/asyncio/base_events.py\", line 1936, in _run_once\n",
      "    handle._run()\n",
      "  File \"/home/wk3user3/.conda/envs/apai-nlp/lib/python3.11/asyncio/events.py\", line 84, in _run\n",
      "    self._context.run(self._callback, *self._args)\n",
      "  File \"/home/wk3user3/.conda/envs/apai-nlp/lib/python3.11/site-packages/ipykernel/kernelbase.py\", line 545, in dispatch_queue\n",
      "    await self.process_one()\n",
      "  File \"/home/wk3user3/.conda/envs/apai-nlp/lib/python3.11/site-packages/ipykernel/kernelbase.py\", line 534, in process_one\n",
      "    await dispatch(*args)\n",
      "  File \"/home/wk3user3/.conda/envs/apai-nlp/lib/python3.11/site-packages/ipykernel/kernelbase.py\", line 437, in dispatch_shell\n",
      "    await result\n",
      "  File \"/home/wk3user3/.conda/envs/apai-nlp/lib/python3.11/site-packages/ipykernel/ipkernel.py\", line 362, in execute_request\n",
      "    await super().execute_request(stream, ident, parent)\n",
      "  File \"/home/wk3user3/.conda/envs/apai-nlp/lib/python3.11/site-packages/ipykernel/kernelbase.py\", line 778, in execute_request\n",
      "    reply_content = await reply_content\n",
      "  File \"/home/wk3user3/.conda/envs/apai-nlp/lib/python3.11/site-packages/ipykernel/ipkernel.py\", line 449, in do_execute\n",
      "    res = shell.run_cell(\n",
      "  File \"/home/wk3user3/.conda/envs/apai-nlp/lib/python3.11/site-packages/ipykernel/zmqshell.py\", line 549, in run_cell\n",
      "    return super().run_cell(*args, **kwargs)\n",
      "  File \"/home/wk3user3/.conda/envs/apai-nlp/lib/python3.11/site-packages/IPython/core/interactiveshell.py\", line 3075, in run_cell\n",
      "    result = self._run_cell(\n",
      "  File \"/home/wk3user3/.conda/envs/apai-nlp/lib/python3.11/site-packages/IPython/core/interactiveshell.py\", line 3130, in _run_cell\n",
      "    result = runner(coro)\n",
      "  File \"/home/wk3user3/.conda/envs/apai-nlp/lib/python3.11/site-packages/IPython/core/async_helpers.py\", line 129, in _pseudo_sync_runner\n",
      "    coro.send(None)\n",
      "  File \"/home/wk3user3/.conda/envs/apai-nlp/lib/python3.11/site-packages/IPython/core/interactiveshell.py\", line 3334, in run_cell_async\n",
      "    has_raised = await self.run_ast_nodes(code_ast.body, cell_name,\n",
      "  File \"/home/wk3user3/.conda/envs/apai-nlp/lib/python3.11/site-packages/IPython/core/interactiveshell.py\", line 3517, in run_ast_nodes\n",
      "    if await self.run_code(code, result, async_=asy):\n",
      "  File \"/home/wk3user3/.conda/envs/apai-nlp/lib/python3.11/site-packages/IPython/core/interactiveshell.py\", line 3577, in run_code\n",
      "    exec(code_obj, self.user_global_ns, self.user_ns)\n",
      "  File \"/tmp/ipykernel_230755/237025327.py\", line 5, in <module>\n",
      "    result = pipe(df_test[\"prompt\"].to_list()[i*chunk_size: (i+1)*chunk_size])\n",
      "  File \"/home/wk3user3/.conda/envs/apai-nlp/lib/python3.11/site-packages/transformers/pipelines/text_generation.py\", line 240, in __call__\n",
      "    return super().__call__(text_inputs, **kwargs)\n",
      "  File \"/home/wk3user3/.conda/envs/apai-nlp/lib/python3.11/site-packages/transformers/pipelines/base.py\", line 1181, in __call__\n",
      "    logger.warning_once(\n",
      "  File \"/home/wk3user3/.conda/envs/apai-nlp/lib/python3.11/site-packages/transformers/utils/logging.py\", line 329, in warning_once\n",
      "    self.warning(*args, **kwargs)\n",
      "Message: 'You seem to be using the pipelines sequentially on GPU. In order to maximize efficiency please use a dataset'\n",
      "Arguments: (<class 'UserWarning'>,)\n",
      "100%|██████████| 28/28 [23:54<00:00, 51.25s/it]"
     ]
    },
    {
     "name": "stdout",
     "output_type": "stream",
     "text": [
      "[{'generated_text': \"<s>[INST] <<SYS>>\\nYou are a helpful and honest psychologist.Respond to the following question from the user.Your answers should not include any critical, dangerous or illegal content.Your answers should be unbiased and encouraging.\\n<</SYS>>\\n\\n###User: I have so many issues to address. I have a history of sexual abuse, I’m a breast cancer survivor and I am a lifetime insomniac.    I have a long history of depression and I’m beginning to have anxiety. I have low self esteem but I’ve been happily married for almost 35 years.\\n   I’ve never had counseling about any of this. Do I have too many issues to address in counseling?###You: [/INST]  Thank you for sharing your personal struggles with me. It takes a lot of courage to open up and share your experiences with a stranger, and I appreciate your trust in me.\\n\\nFirstly, please know that you are not alone in your struggles. Many people have experienced similar issues, and it's completely normal to feel overwhelmed and unsure of where to turn. Counseling can be a powerful tool to help you process and address these issues, and it's never too late to seek help.\\n\\nRegarding your concerns about having too many issues to address in counseling, I want to assure you that counselors are trained to work with a wide range of issues and can help you develop coping strategies and techniques to manage your symptoms. It's important to remember that counseling is a collaborative process, and your counselor will work with you to identify your specific needs and develop a plan that is tailored to your needs.\\n\\nIt's also important to recognize that healing from trauma and managing mental health issues is a process that takes time, patience, and support. It's okay to take things one step at a time, and your counselor can help you set realistic goals and work towards them.\\n\\nIn terms of your history of sexual abuse, it's important to recognize that healing from trauma can be a complex and ongoing process. Counseling can help you process your experiences and develop coping strategies to manage any ongoing symptoms. It's also important to consider seeking support from\"}]\n"
     ]
    },
    {
     "name": "stderr",
     "output_type": "stream",
     "text": [
      "\n"
     ]
    }
   ],
   "source": [
    "chunk_size = 4\n",
    "num_chunks = df_test.shape[0] // chunk_size + int(df_test.shape[0] % chunk_size > 0)\n",
    "results = []\n",
    "for i in tqdm(range(num_chunks)):\n",
    "    result = pipe(df_test[\"prompt\"].to_list()[i*chunk_size: (i+1)*chunk_size])\n",
    "    results.extend(result)\n",
    "print(results[0])"
   ]
  },
  {
   "cell_type": "code",
   "execution_count": 50,
   "metadata": {},
   "outputs": [
    {
     "data": {
      "text/html": [
       "<div>\n",
       "<style scoped>\n",
       "    .dataframe tbody tr th:only-of-type {\n",
       "        vertical-align: middle;\n",
       "    }\n",
       "\n",
       "    .dataframe tbody tr th {\n",
       "        vertical-align: top;\n",
       "    }\n",
       "\n",
       "    .dataframe thead th {\n",
       "        text-align: right;\n",
       "    }\n",
       "</style>\n",
       "<table border=\"1\" class=\"dataframe\">\n",
       "  <thead>\n",
       "    <tr style=\"text-align: right;\">\n",
       "      <th></th>\n",
       "      <th>questionTitle</th>\n",
       "      <th>questionText</th>\n",
       "      <th>topic</th>\n",
       "      <th>answerText</th>\n",
       "      <th>upvotes</th>\n",
       "      <th>views</th>\n",
       "      <th>prompt</th>\n",
       "      <th>generatedText</th>\n",
       "      <th>generatedAnswerText</th>\n",
       "    </tr>\n",
       "    <tr>\n",
       "      <th>questionID</th>\n",
       "      <th></th>\n",
       "      <th></th>\n",
       "      <th></th>\n",
       "      <th></th>\n",
       "      <th></th>\n",
       "      <th></th>\n",
       "      <th></th>\n",
       "      <th></th>\n",
       "      <th></th>\n",
       "    </tr>\n",
       "  </thead>\n",
       "  <tbody>\n",
       "    <tr>\n",
       "      <th>0</th>\n",
       "      <td>Do I have too many issues for counseling?</td>\n",
       "      <td>I have so many issues to address. I have a his...</td>\n",
       "      <td>depression</td>\n",
       "      <td>It is very common for people to have multiple ...</td>\n",
       "      <td>3</td>\n",
       "      <td>1971</td>\n",
       "      <td>&lt;s&gt;[INST] &lt;&lt;SYS&gt;&gt;\\nYou are a helpful and hones...</td>\n",
       "      <td>&lt;s&gt;[INST] &lt;&lt;SYS&gt;&gt;\\nYou are a helpful and hones...</td>\n",
       "      <td>Thank you for sharing your personal struggles ...</td>\n",
       "    </tr>\n",
       "    <tr>\n",
       "      <th>2</th>\n",
       "      <td>I feel like my mother doesn't support me</td>\n",
       "      <td>My mother is combative with me when I say I do...</td>\n",
       "      <td>depression</td>\n",
       "      <td>Do you live with your mom and have constant in...</td>\n",
       "      <td>2</td>\n",
       "      <td>187</td>\n",
       "      <td>&lt;s&gt;[INST] &lt;&lt;SYS&gt;&gt;\\nYou are a helpful and hones...</td>\n",
       "      <td>&lt;s&gt;[INST] &lt;&lt;SYS&gt;&gt;\\nYou are a helpful and hones...</td>\n",
       "      <td>Thank you for sharing your concerns with me. I...</td>\n",
       "    </tr>\n",
       "    <tr>\n",
       "      <th>11</th>\n",
       "      <td>Why am I experiencing dfficulty maintaining an...</td>\n",
       "      <td>A few years ago I was making love to my wife w...</td>\n",
       "      <td>depression</td>\n",
       "      <td>When I'm working with men with this type of si...</td>\n",
       "      <td>1</td>\n",
       "      <td>194</td>\n",
       "      <td>&lt;s&gt;[INST] &lt;&lt;SYS&gt;&gt;\\nYou are a helpful and hones...</td>\n",
       "      <td>&lt;s&gt;[INST] &lt;&lt;SYS&gt;&gt;\\nYou are a helpful and hones...</td>\n",
       "      <td>Thank you for reaching out for help. It takes ...</td>\n",
       "    </tr>\n",
       "    <tr>\n",
       "      <th>14</th>\n",
       "      <td>Can I change my feeling of being worthless to ...</td>\n",
       "      <td>I'm going through some things with my feelings...</td>\n",
       "      <td>depression</td>\n",
       "      <td>Hello, and thank you for your question and see...</td>\n",
       "      <td>2</td>\n",
       "      <td>5423</td>\n",
       "      <td>&lt;s&gt;[INST] &lt;&lt;SYS&gt;&gt;\\nYou are a helpful and hones...</td>\n",
       "      <td>&lt;s&gt;[INST] &lt;&lt;SYS&gt;&gt;\\nYou are a helpful and hones...</td>\n",
       "      <td>Thank you for sharing your struggles with me. ...</td>\n",
       "    </tr>\n",
       "    <tr>\n",
       "      <th>16</th>\n",
       "      <td>How can I stop treating people badly?</td>\n",
       "      <td>I feel like I'm so alone. I treat people horri...</td>\n",
       "      <td>depression</td>\n",
       "      <td>Give yourself a little more credit for self-ob...</td>\n",
       "      <td>1</td>\n",
       "      <td>1029</td>\n",
       "      <td>&lt;s&gt;[INST] &lt;&lt;SYS&gt;&gt;\\nYou are a helpful and hones...</td>\n",
       "      <td>&lt;s&gt;[INST] &lt;&lt;SYS&gt;&gt;\\nYou are a helpful and hones...</td>\n",
       "      <td>Thank you for sharing your feelings with me. I...</td>\n",
       "    </tr>\n",
       "  </tbody>\n",
       "</table>\n",
       "</div>"
      ],
      "text/plain": [
       "                                                questionTitle  \\\n",
       "questionID                                                      \n",
       "0                   Do I have too many issues for counseling?   \n",
       "2                    I feel like my mother doesn't support me   \n",
       "11          Why am I experiencing dfficulty maintaining an...   \n",
       "14          Can I change my feeling of being worthless to ...   \n",
       "16                      How can I stop treating people badly?   \n",
       "\n",
       "                                                 questionText       topic  \\\n",
       "questionID                                                                  \n",
       "0           I have so many issues to address. I have a his...  depression   \n",
       "2           My mother is combative with me when I say I do...  depression   \n",
       "11          A few years ago I was making love to my wife w...  depression   \n",
       "14          I'm going through some things with my feelings...  depression   \n",
       "16          I feel like I'm so alone. I treat people horri...  depression   \n",
       "\n",
       "                                                   answerText  upvotes  views  \\\n",
       "questionID                                                                      \n",
       "0           It is very common for people to have multiple ...        3   1971   \n",
       "2           Do you live with your mom and have constant in...        2    187   \n",
       "11          When I'm working with men with this type of si...        1    194   \n",
       "14          Hello, and thank you for your question and see...        2   5423   \n",
       "16          Give yourself a little more credit for self-ob...        1   1029   \n",
       "\n",
       "                                                       prompt  \\\n",
       "questionID                                                      \n",
       "0           <s>[INST] <<SYS>>\\nYou are a helpful and hones...   \n",
       "2           <s>[INST] <<SYS>>\\nYou are a helpful and hones...   \n",
       "11          <s>[INST] <<SYS>>\\nYou are a helpful and hones...   \n",
       "14          <s>[INST] <<SYS>>\\nYou are a helpful and hones...   \n",
       "16          <s>[INST] <<SYS>>\\nYou are a helpful and hones...   \n",
       "\n",
       "                                                generatedText  \\\n",
       "questionID                                                      \n",
       "0           <s>[INST] <<SYS>>\\nYou are a helpful and hones...   \n",
       "2           <s>[INST] <<SYS>>\\nYou are a helpful and hones...   \n",
       "11          <s>[INST] <<SYS>>\\nYou are a helpful and hones...   \n",
       "14          <s>[INST] <<SYS>>\\nYou are a helpful and hones...   \n",
       "16          <s>[INST] <<SYS>>\\nYou are a helpful and hones...   \n",
       "\n",
       "                                          generatedAnswerText  \n",
       "questionID                                                     \n",
       "0           Thank you for sharing your personal struggles ...  \n",
       "2           Thank you for sharing your concerns with me. I...  \n",
       "11          Thank you for reaching out for help. It takes ...  \n",
       "14          Thank you for sharing your struggles with me. ...  \n",
       "16          Thank you for sharing your feelings with me. I...  "
      ]
     },
     "execution_count": 50,
     "metadata": {},
     "output_type": "execute_result"
    }
   ],
   "source": [
    "df_test[\"generatedText\"] = [res[0][\"generated_text\"] for res in results]\n",
    "df_test[\"generatedAnswerText\"] = df_test[\"generatedText\"].apply(\n",
    "    lambda text: re.split(r\"\\[\\/INST\\]\\s*\", text, maxsplit=1)[1]\n",
    ")\n",
    "df_test.head()"
   ]
  },
  {
   "cell_type": "code",
   "execution_count": 51,
   "metadata": {},
   "outputs": [],
   "source": [
    "# df_test.to_csv(\"response/test-response-model_240411_0952.csv\")"
   ]
  },
  {
   "cell_type": "code",
   "execution_count": null,
   "metadata": {},
   "outputs": [],
   "source": []
  }
 ],
 "metadata": {
  "kernelspec": {
   "display_name": "apai-nlp",
   "language": "python",
   "name": "python3"
  },
  "language_info": {
   "codemirror_mode": {
    "name": "ipython",
    "version": 3
   },
   "file_extension": ".py",
   "mimetype": "text/x-python",
   "name": "python",
   "nbconvert_exporter": "python",
   "pygments_lexer": "ipython3",
   "version": "3.11.8"
  }
 },
 "nbformat": 4,
 "nbformat_minor": 2
}
