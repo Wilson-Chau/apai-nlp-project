{
  "cells": [
    {
      "cell_type": "markdown",
      "metadata": {
        "id": "q9Nnp2dcvH_f",
        "pycharm": {
          "name": "#%% md\n"
        }
      },
      "source": [
        "## Calculate BERT Score"
      ]
    },
    {
      "cell_type": "code",
      "execution_count": 20,
      "metadata": {},
      "outputs": [
        {
          "name": "stdout",
          "output_type": "stream",
          "text": [
            "Requirement already satisfied: evaluate in /Library/Frameworks/Python.framework/Versions/3.11/lib/python3.11/site-packages (0.4.1)\n",
            "Requirement already satisfied: datasets>=2.0.0 in /Library/Frameworks/Python.framework/Versions/3.11/lib/python3.11/site-packages (from evaluate) (2.18.0)\n",
            "Requirement already satisfied: numpy>=1.17 in /Library/Frameworks/Python.framework/Versions/3.11/lib/python3.11/site-packages (from evaluate) (1.26.4)\n",
            "Requirement already satisfied: dill in /Library/Frameworks/Python.framework/Versions/3.11/lib/python3.11/site-packages (from evaluate) (0.3.8)\n",
            "Requirement already satisfied: pandas in /Library/Frameworks/Python.framework/Versions/3.11/lib/python3.11/site-packages (from evaluate) (2.2.1)\n",
            "Requirement already satisfied: requests>=2.19.0 in /Library/Frameworks/Python.framework/Versions/3.11/lib/python3.11/site-packages (from evaluate) (2.31.0)\n",
            "Requirement already satisfied: tqdm>=4.62.1 in /Library/Frameworks/Python.framework/Versions/3.11/lib/python3.11/site-packages (from evaluate) (4.66.2)\n",
            "Requirement already satisfied: xxhash in /Library/Frameworks/Python.framework/Versions/3.11/lib/python3.11/site-packages (from evaluate) (3.4.1)\n",
            "Requirement already satisfied: multiprocess in /Library/Frameworks/Python.framework/Versions/3.11/lib/python3.11/site-packages (from evaluate) (0.70.16)\n",
            "Requirement already satisfied: fsspec>=2021.05.0 in /Library/Frameworks/Python.framework/Versions/3.11/lib/python3.11/site-packages (from fsspec[http]>=2021.05.0->evaluate) (2024.2.0)\n",
            "Requirement already satisfied: huggingface-hub>=0.7.0 in /Library/Frameworks/Python.framework/Versions/3.11/lib/python3.11/site-packages (from evaluate) (0.22.2)\n",
            "Requirement already satisfied: packaging in /Users/ssuntoso/Library/Python/3.11/lib/python/site-packages (from evaluate) (23.2)\n",
            "Requirement already satisfied: responses<0.19 in /Library/Frameworks/Python.framework/Versions/3.11/lib/python3.11/site-packages (from evaluate) (0.18.0)\n",
            "Requirement already satisfied: filelock in /Library/Frameworks/Python.framework/Versions/3.11/lib/python3.11/site-packages (from datasets>=2.0.0->evaluate) (3.13.1)\n",
            "Requirement already satisfied: pyarrow>=12.0.0 in /Library/Frameworks/Python.framework/Versions/3.11/lib/python3.11/site-packages (from datasets>=2.0.0->evaluate) (15.0.2)\n",
            "Requirement already satisfied: pyarrow-hotfix in /Library/Frameworks/Python.framework/Versions/3.11/lib/python3.11/site-packages (from datasets>=2.0.0->evaluate) (0.6)\n",
            "Requirement already satisfied: aiohttp in /Library/Frameworks/Python.framework/Versions/3.11/lib/python3.11/site-packages (from datasets>=2.0.0->evaluate) (3.9.3)\n",
            "Requirement already satisfied: pyyaml>=5.1 in /Library/Frameworks/Python.framework/Versions/3.11/lib/python3.11/site-packages (from datasets>=2.0.0->evaluate) (6.0.1)\n",
            "Requirement already satisfied: typing-extensions>=3.7.4.3 in /Library/Frameworks/Python.framework/Versions/3.11/lib/python3.11/site-packages (from huggingface-hub>=0.7.0->evaluate) (4.11.0)\n",
            "Requirement already satisfied: charset-normalizer<4,>=2 in /Library/Frameworks/Python.framework/Versions/3.11/lib/python3.11/site-packages (from requests>=2.19.0->evaluate) (3.3.2)\n",
            "Requirement already satisfied: idna<4,>=2.5 in /Library/Frameworks/Python.framework/Versions/3.11/lib/python3.11/site-packages (from requests>=2.19.0->evaluate) (3.6)\n",
            "Requirement already satisfied: urllib3<3,>=1.21.1 in /Library/Frameworks/Python.framework/Versions/3.11/lib/python3.11/site-packages (from requests>=2.19.0->evaluate) (2.2.1)\n",
            "Requirement already satisfied: certifi>=2017.4.17 in /Library/Frameworks/Python.framework/Versions/3.11/lib/python3.11/site-packages (from requests>=2.19.0->evaluate) (2024.2.2)\n",
            "Requirement already satisfied: python-dateutil>=2.8.2 in /Users/ssuntoso/Library/Python/3.11/lib/python/site-packages (from pandas->evaluate) (2.9.0)\n",
            "Requirement already satisfied: pytz>=2020.1 in /Library/Frameworks/Python.framework/Versions/3.11/lib/python3.11/site-packages (from pandas->evaluate) (2024.1)\n",
            "Requirement already satisfied: tzdata>=2022.7 in /Library/Frameworks/Python.framework/Versions/3.11/lib/python3.11/site-packages (from pandas->evaluate) (2024.1)\n",
            "Requirement already satisfied: aiosignal>=1.1.2 in /Library/Frameworks/Python.framework/Versions/3.11/lib/python3.11/site-packages (from aiohttp->datasets>=2.0.0->evaluate) (1.3.1)\n",
            "Requirement already satisfied: attrs>=17.3.0 in /Library/Frameworks/Python.framework/Versions/3.11/lib/python3.11/site-packages (from aiohttp->datasets>=2.0.0->evaluate) (23.2.0)\n",
            "Requirement already satisfied: frozenlist>=1.1.1 in /Library/Frameworks/Python.framework/Versions/3.11/lib/python3.11/site-packages (from aiohttp->datasets>=2.0.0->evaluate) (1.4.1)\n",
            "Requirement already satisfied: multidict<7.0,>=4.5 in /Library/Frameworks/Python.framework/Versions/3.11/lib/python3.11/site-packages (from aiohttp->datasets>=2.0.0->evaluate) (6.0.5)\n",
            "Requirement already satisfied: yarl<2.0,>=1.0 in /Library/Frameworks/Python.framework/Versions/3.11/lib/python3.11/site-packages (from aiohttp->datasets>=2.0.0->evaluate) (1.9.4)\n",
            "Requirement already satisfied: six>=1.5 in /Users/ssuntoso/Library/Python/3.11/lib/python/site-packages (from python-dateutil>=2.8.2->pandas->evaluate) (1.16.0)\n",
            "Note: you may need to restart the kernel to use updated packages.\n",
            "Collecting bert_score\n",
            "  Downloading bert_score-0.3.13-py3-none-any.whl.metadata (15 kB)\n",
            "Requirement already satisfied: torch>=1.0.0 in /Library/Frameworks/Python.framework/Versions/3.11/lib/python3.11/site-packages (from bert_score) (2.2.2)\n",
            "Requirement already satisfied: pandas>=1.0.1 in /Library/Frameworks/Python.framework/Versions/3.11/lib/python3.11/site-packages (from bert_score) (2.2.1)\n",
            "Requirement already satisfied: transformers>=3.0.0 in /Library/Frameworks/Python.framework/Versions/3.11/lib/python3.11/site-packages (from bert_score) (4.39.3)\n",
            "Requirement already satisfied: numpy in /Library/Frameworks/Python.framework/Versions/3.11/lib/python3.11/site-packages (from bert_score) (1.26.4)\n",
            "Requirement already satisfied: requests in /Library/Frameworks/Python.framework/Versions/3.11/lib/python3.11/site-packages (from bert_score) (2.31.0)\n",
            "Requirement already satisfied: tqdm>=4.31.1 in /Library/Frameworks/Python.framework/Versions/3.11/lib/python3.11/site-packages (from bert_score) (4.66.2)\n",
            "Collecting matplotlib (from bert_score)\n",
            "  Downloading matplotlib-3.8.4-cp311-cp311-macosx_11_0_arm64.whl.metadata (5.8 kB)\n",
            "Requirement already satisfied: packaging>=20.9 in /Users/ssuntoso/Library/Python/3.11/lib/python/site-packages (from bert_score) (23.2)\n",
            "Requirement already satisfied: python-dateutil>=2.8.2 in /Users/ssuntoso/Library/Python/3.11/lib/python/site-packages (from pandas>=1.0.1->bert_score) (2.9.0)\n",
            "Requirement already satisfied: pytz>=2020.1 in /Library/Frameworks/Python.framework/Versions/3.11/lib/python3.11/site-packages (from pandas>=1.0.1->bert_score) (2024.1)\n",
            "Requirement already satisfied: tzdata>=2022.7 in /Library/Frameworks/Python.framework/Versions/3.11/lib/python3.11/site-packages (from pandas>=1.0.1->bert_score) (2024.1)\n",
            "Requirement already satisfied: filelock in /Library/Frameworks/Python.framework/Versions/3.11/lib/python3.11/site-packages (from torch>=1.0.0->bert_score) (3.13.1)\n",
            "Requirement already satisfied: typing-extensions>=4.8.0 in /Library/Frameworks/Python.framework/Versions/3.11/lib/python3.11/site-packages (from torch>=1.0.0->bert_score) (4.11.0)\n",
            "Requirement already satisfied: sympy in /Library/Frameworks/Python.framework/Versions/3.11/lib/python3.11/site-packages (from torch>=1.0.0->bert_score) (1.12)\n",
            "Requirement already satisfied: networkx in /Library/Frameworks/Python.framework/Versions/3.11/lib/python3.11/site-packages (from torch>=1.0.0->bert_score) (3.3)\n",
            "Requirement already satisfied: jinja2 in /Library/Frameworks/Python.framework/Versions/3.11/lib/python3.11/site-packages (from torch>=1.0.0->bert_score) (3.1.3)\n",
            "Requirement already satisfied: fsspec in /Library/Frameworks/Python.framework/Versions/3.11/lib/python3.11/site-packages (from torch>=1.0.0->bert_score) (2024.2.0)\n",
            "Requirement already satisfied: huggingface-hub<1.0,>=0.19.3 in /Library/Frameworks/Python.framework/Versions/3.11/lib/python3.11/site-packages (from transformers>=3.0.0->bert_score) (0.22.2)\n",
            "Requirement already satisfied: pyyaml>=5.1 in /Library/Frameworks/Python.framework/Versions/3.11/lib/python3.11/site-packages (from transformers>=3.0.0->bert_score) (6.0.1)\n",
            "Requirement already satisfied: regex!=2019.12.17 in /Library/Frameworks/Python.framework/Versions/3.11/lib/python3.11/site-packages (from transformers>=3.0.0->bert_score) (2023.12.25)\n",
            "Requirement already satisfied: tokenizers<0.19,>=0.14 in /Library/Frameworks/Python.framework/Versions/3.11/lib/python3.11/site-packages (from transformers>=3.0.0->bert_score) (0.15.2)\n",
            "Requirement already satisfied: safetensors>=0.4.1 in /Library/Frameworks/Python.framework/Versions/3.11/lib/python3.11/site-packages (from transformers>=3.0.0->bert_score) (0.4.2)\n",
            "Collecting contourpy>=1.0.1 (from matplotlib->bert_score)\n",
            "  Downloading contourpy-1.2.1-cp311-cp311-macosx_11_0_arm64.whl.metadata (5.8 kB)\n",
            "Collecting cycler>=0.10 (from matplotlib->bert_score)\n",
            "  Using cached cycler-0.12.1-py3-none-any.whl.metadata (3.8 kB)\n",
            "Collecting fonttools>=4.22.0 (from matplotlib->bert_score)\n",
            "  Downloading fonttools-4.51.0-cp311-cp311-macosx_10_9_universal2.whl.metadata (159 kB)\n",
            "\u001b[2K     \u001b[90m━━━━━━━━━━━━━━━━━━━━━━━━━━━━━━━━━━━━━━━\u001b[0m \u001b[32m159.5/159.5 kB\u001b[0m \u001b[31m3.0 MB/s\u001b[0m eta \u001b[36m0:00:00\u001b[0ma \u001b[36m0:00:01\u001b[0m\n",
            "\u001b[?25hCollecting kiwisolver>=1.3.1 (from matplotlib->bert_score)\n",
            "  Using cached kiwisolver-1.4.5-cp311-cp311-macosx_11_0_arm64.whl.metadata (6.4 kB)\n",
            "Requirement already satisfied: pillow>=8 in /Library/Frameworks/Python.framework/Versions/3.11/lib/python3.11/site-packages (from matplotlib->bert_score) (10.3.0)\n",
            "Collecting pyparsing>=2.3.1 (from matplotlib->bert_score)\n",
            "  Downloading pyparsing-3.1.2-py3-none-any.whl.metadata (5.1 kB)\n",
            "Requirement already satisfied: charset-normalizer<4,>=2 in /Library/Frameworks/Python.framework/Versions/3.11/lib/python3.11/site-packages (from requests->bert_score) (3.3.2)\n",
            "Requirement already satisfied: idna<4,>=2.5 in /Library/Frameworks/Python.framework/Versions/3.11/lib/python3.11/site-packages (from requests->bert_score) (3.6)\n",
            "Requirement already satisfied: urllib3<3,>=1.21.1 in /Library/Frameworks/Python.framework/Versions/3.11/lib/python3.11/site-packages (from requests->bert_score) (2.2.1)\n",
            "Requirement already satisfied: certifi>=2017.4.17 in /Library/Frameworks/Python.framework/Versions/3.11/lib/python3.11/site-packages (from requests->bert_score) (2024.2.2)\n",
            "Requirement already satisfied: six>=1.5 in /Users/ssuntoso/Library/Python/3.11/lib/python/site-packages (from python-dateutil>=2.8.2->pandas>=1.0.1->bert_score) (1.16.0)\n",
            "Requirement already satisfied: MarkupSafe>=2.0 in /Library/Frameworks/Python.framework/Versions/3.11/lib/python3.11/site-packages (from jinja2->torch>=1.0.0->bert_score) (2.1.5)\n",
            "Requirement already satisfied: mpmath>=0.19 in /Library/Frameworks/Python.framework/Versions/3.11/lib/python3.11/site-packages (from sympy->torch>=1.0.0->bert_score) (1.3.0)\n",
            "Downloading bert_score-0.3.13-py3-none-any.whl (61 kB)\n",
            "\u001b[2K   \u001b[90m━━━━━━━━━━━━━━━━━━━━━━━━━━━━━━━━━━━━━━━━\u001b[0m \u001b[32m61.1/61.1 kB\u001b[0m \u001b[31m3.1 MB/s\u001b[0m eta \u001b[36m0:00:00\u001b[0m\n",
            "\u001b[?25hDownloading matplotlib-3.8.4-cp311-cp311-macosx_11_0_arm64.whl (7.5 MB)\n",
            "\u001b[2K   \u001b[90m━━━━━━━━━━━━━━━━━━━━━━━━━━━━━━━━━━━━━━━━\u001b[0m \u001b[32m7.5/7.5 MB\u001b[0m \u001b[31m9.0 MB/s\u001b[0m eta \u001b[36m0:00:00\u001b[0m00:01\u001b[0m00:01\u001b[0m\n",
            "\u001b[?25hDownloading contourpy-1.2.1-cp311-cp311-macosx_11_0_arm64.whl (245 kB)\n",
            "\u001b[2K   \u001b[90m━━━━━━━━━━━━━━━━━━━━━━━━━━━━━━━━━━━━━━━━\u001b[0m \u001b[32m245.9/245.9 kB\u001b[0m \u001b[31m9.6 MB/s\u001b[0m eta \u001b[36m0:00:00\u001b[0m\n",
            "\u001b[?25hUsing cached cycler-0.12.1-py3-none-any.whl (8.3 kB)\n",
            "Downloading fonttools-4.51.0-cp311-cp311-macosx_10_9_universal2.whl (2.8 MB)\n",
            "\u001b[2K   \u001b[90m━━━━━━━━━━━━━━━━━━━━━━━━━━━━━━━━━━━━━━━━\u001b[0m \u001b[32m2.8/2.8 MB\u001b[0m \u001b[31m15.2 MB/s\u001b[0m eta \u001b[36m0:00:00\u001b[0ma \u001b[36m0:00:01\u001b[0m\n",
            "\u001b[?25hUsing cached kiwisolver-1.4.5-cp311-cp311-macosx_11_0_arm64.whl (66 kB)\n",
            "Downloading pyparsing-3.1.2-py3-none-any.whl (103 kB)\n",
            "\u001b[2K   \u001b[90m━━━━━━━━━━━━━━━━━━━━━━━━━━━━━━━━━━━━━━━━\u001b[0m \u001b[32m103.2/103.2 kB\u001b[0m \u001b[31m5.0 MB/s\u001b[0m eta \u001b[36m0:00:00\u001b[0m\n",
            "\u001b[?25hInstalling collected packages: pyparsing, kiwisolver, fonttools, cycler, contourpy, matplotlib, bert_score\n",
            "Successfully installed bert_score-0.3.13 contourpy-1.2.1 cycler-0.12.1 fonttools-4.51.0 kiwisolver-1.4.5 matplotlib-3.8.4 pyparsing-3.1.2\n",
            "Note: you may need to restart the kernel to use updated packages.\n"
          ]
        }
      ],
      "source": [
        "%pip install evaluate\n",
        "%pip install bert_score"
      ]
    },
    {
      "cell_type": "code",
      "execution_count": 4,
      "metadata": {},
      "outputs": [],
      "source": [
        "import pandas as pd"
      ]
    },
    {
      "cell_type": "code",
      "execution_count": 5,
      "metadata": {},
      "outputs": [],
      "source": [
        "file1 = \"../response/test-response-llama2-7B-RAG.csv\"\n",
        "file2 = \"../response/test-response-model_240411_0952.csv\""
      ]
    },
    {
      "cell_type": "code",
      "execution_count": 6,
      "metadata": {},
      "outputs": [],
      "source": [
        "df_RAG = pd.read_csv(file1)\n",
        "answer_RAG = df_RAG['answerText'].tolist()\n",
        "responses_RAG = df_RAG['response'].tolist()"
      ]
    },
    {
      "cell_type": "code",
      "execution_count": 12,
      "metadata": {},
      "outputs": [],
      "source": [
        "df_Train = pd.read_csv(file2)\n",
        "answer_Train = df_Train['answerText'].tolist()\n",
        "responses_Train = df_Train['generatedAnswerText'].tolist()"
      ]
    },
    {
      "cell_type": "code",
      "execution_count": 36,
      "metadata": {},
      "outputs": [],
      "source": [
        "from evaluate import load\n",
        "bertscore = load(\"bertscore\")\n",
        "results_RAG = bertscore.compute(predictions=responses_RAG, references=answer_RAG, model_type=\"distilbert-base-uncased\")"
      ]
    },
    {
      "cell_type": "code",
      "execution_count": null,
      "metadata": {},
      "outputs": [
        {
          "name": "stdout",
          "output_type": "stream",
          "text": [
            "{'precision': [0.7744001746177673, 0.7240833044052124, 0.7133013010025024, 0.7945899367332458, 0.7746557593345642, 0.737745463848114, 0.7365060448646545, 0.7716231346130371, 0.8010138273239136, 0.7995003461837769, 0.7754648327827454, 0.7696134448051453, 0.7885004281997681, 0.7486327886581421, 0.7533362507820129, 0.7724809050559998, 0.6880082488059998, 0.7637064456939697, 0.7807052731513977, 0.7825722098350525, 0.7621904015541077, 0.7947870492935181, 0.7946313619613647, 0.7714149951934814, 0.756933867931366, 0.7380346059799194, 0.7818629741668701, 0.7737247943878174, 0.7375339269638062, 0.7569188475608826, 0.788485050201416, 0.7922666668891907, 0.7954127788543701, 0.7745286822319031, 0.7589311003684998, 0.7214210629463196, 0.7774108052253723, 0.787963330745697, 0.7374207973480225, 0.686703085899353, 0.7902911901473999, 0.7300375699996948, 0.7774347066879272, 0.7527601718902588, 0.8166986703872681, 0.7861289381980896, 0.7342348694801331, 0.7929624319076538, 0.7724128365516663, 0.7866491675376892, 0.7709201574325562, 0.7910587191581726, 0.775861382484436, 0.7356981039047241, 0.7895263433456421, 0.7884445786476135, 0.7703665494918823, 0.7754788994789124, 0.7974681258201599, 0.7493120431900024, 0.7867117524147034, 0.7471983432769775, 0.7156119346618652, 0.7472020983695984, 0.772320568561554, 0.7034400701522827, 0.7418842911720276, 0.7662274837493896, 0.7947332262992859, 0.6933843493461609, 0.7409868836402893, 0.7782851457595825, 0.7308007478713989, 0.758281946182251, 0.8177909255027771, 0.7706326246261597, 0.744628369808197, 0.7540776133537292, 0.8179340362548828, 0.7728234529495239, 0.7277323603630066, 0.7486009001731873, 0.6103326678276062, 0.7683647274971008, 0.749317467212677, 0.7666293978691101, 0.7628655433654785, 0.7484163045883179, 0.7412939071655273, 0.7624030709266663, 0.7514083981513977, 0.7459989786148071, 0.7884868383407593, 0.7537596225738525, 0.740179181098938, 0.7294595837593079, 0.7689639925956726, 0.7167896032333374, 0.7952314019203186, 0.7538003921508789, 0.7780153155326843, 0.7535686492919922, 0.7809067368507385, 0.7805123925209045, 0.7625735998153687, 0.7663711905479431, 0.759191632270813, 0.7143508195877075, 0.7620159387588501, 0.7844476699829102, 0.7880501747131348, 0.6853100061416626], 'recall': [0.7911303043365479, 0.8103132247924805, 0.778312087059021, 0.7744699716567993, 0.810345470905304, 0.7804152965545654, 0.7921425104141235, 0.7892099618911743, 0.7681996822357178, 0.7809685468673706, 0.7656563520431519, 0.7668051719665527, 0.709605872631073, 0.7963679432868958, 0.7780424952507019, 0.736531138420105, 0.7686924934387207, 0.7493489980697632, 0.7970550060272217, 0.7677187919616699, 0.8016301393508911, 0.7914415001869202, 0.8154503703117371, 0.7827727794647217, 0.7497402429580688, 0.7666951417922974, 0.78718501329422, 0.7635364532470703, 0.807188093662262, 0.7846439480781555, 0.7889723777770996, 0.7811540365219116, 0.7742693424224854, 0.7696390151977539, 0.7517682313919067, 0.7429951429367065, 0.7416256666183472, 0.7813274264335632, 0.7582240700721741, 0.7877589464187622, 0.7742193341255188, 0.7773443460464478, 0.780274510383606, 0.7681315541267395, 0.7818524837493896, 0.7827181816101074, 0.7530806064605713, 0.7974001169204712, 0.7843417525291443, 0.8178392648696899, 0.7883233428001404, 0.7758446335792542, 0.7879189252853394, 0.7630876302719116, 0.7561572790145874, 0.8091433644294739, 0.792616605758667, 0.7917391061782837, 0.7783579230308533, 0.7415419220924377, 0.7725318670272827, 0.7520329356193542, 0.7425972819328308, 0.7815455198287964, 0.7807658910751343, 0.7702435255050659, 0.7937318682670593, 0.7894853353500366, 0.7445851564407349, 0.7460609674453735, 0.7661768198013306, 0.7509546875953674, 0.7716688513755798, 0.7928978204727173, 0.7784872055053711, 0.7737841010093689, 0.7399019598960876, 0.7798014879226685, 0.7968374490737915, 0.7843974232673645, 0.7560722827911377, 0.8378127813339233, 0.6970064043998718, 0.798174262046814, 0.7689681649208069, 0.7382752299308777, 0.7343722581863403, 0.7675198316574097, 0.7783757448196411, 0.7491307258605957, 0.7829504013061523, 0.7395244240760803, 0.7715812921524048, 0.7941163778305054, 0.7514871954917908, 0.7454288005828857, 0.7600878477096558, 0.7897619605064392, 0.7775651216506958, 0.769389271736145, 0.7738820910453796, 0.7609233856201172, 0.7857068181037903, 0.7649535536766052, 0.7823401689529419, 0.8147748112678528, 0.7891319990158081, 0.778411865234375, 0.7497813701629639, 0.7909389734268188, 0.8068180084228516, 0.7571161389350891], 'f1': [0.7826758623123169, 0.7647753357887268, 0.7443899512290955, 0.784400999546051, 0.7920987606048584, 0.7584807276725769, 0.7633118033409119, 0.780317485332489, 0.7842636704444885, 0.790125846862793, 0.7705293297767639, 0.7682067155838013, 0.7469757795333862, 0.7717629075050354, 0.7654901146888733, 0.7540778517723083, 0.7261158227920532, 0.7564595937728882, 0.7887954711914062, 0.775074303150177, 0.7814128994941711, 0.7931106686592102, 0.8049062490463257, 0.7770524024963379, 0.7533199787139893, 0.7520919442176819, 0.7845150232315063, 0.768596887588501, 0.7707905769348145, 0.7705320715904236, 0.7887285947799683, 0.7866710424423218, 0.7846986651420593, 0.7720760703086853, 0.7553327679634094, 0.7320491671562195, 0.7590966820716858, 0.7846313714981079, 0.7476778030395508, 0.7337679862976074, 0.782172679901123, 0.7529486417770386, 0.7788520455360413, 0.7603681683540344, 0.7988957762718201, 0.7844198346138, 0.7435383796691895, 0.7951751351356506, 0.7783315777778625, 0.8019410967826843, 0.7795246839523315, 0.7833778262138367, 0.7818436622619629, 0.7491426467895508, 0.7724816203117371, 0.7986599206924438, 0.7813332080841064, 0.7835245728492737, 0.7877971529960632, 0.7454066872596741, 0.7795572876930237, 0.7496078610420227, 0.7288548946380615, 0.7639880776405334, 0.7765201926231384, 0.7353276610374451, 0.7669328451156616, 0.7776825428009033, 0.768842339515686, 0.7187588214874268, 0.7533712983131409, 0.764375627040863, 0.7506790161132812, 0.7752036452293396, 0.7976551651954651, 0.7722051739692688, 0.7422576546669006, 0.7667238116264343, 0.8072479367256165, 0.7785674333572388, 0.7416316866874695, 0.7906984686851501, 0.6507964134216309, 0.7829858064651489, 0.7590156197547913, 0.7521851658821106, 0.7483477592468262, 0.7578476667404175, 0.759382426738739, 0.7557086944580078, 0.7668551802635193, 0.7427475452423096, 0.7799424529075623, 0.7734118700027466, 0.7457903623580933, 0.7373577952384949, 0.7645001411437988, 0.7515085339546204, 0.7862989902496338, 0.7615150809288025, 0.7759432196617126, 0.7572281360626221, 0.783299446105957, 0.77265465259552, 0.7723304033279419, 0.7898321151733398, 0.7738723754882812, 0.745006799697876, 0.7558491230010986, 0.7876799702644348, 0.7973236441612244, 0.7194257378578186], 'hashcode': 'distilbert-base-uncased_L5_no-idf_version=0.3.12(hug_trans=4.39.3)'}\n"
          ]
        }
      ],
      "source": [
        "results_Train = bertscore.compute(predictions=responses_Train, references=answer_Train, model_type=\"allenai/longformer-large-4096-finetuned-triviaqa\")"
      ]
    },
    {
      "cell_type": "code",
      "execution_count": null,
      "metadata": {},
      "outputs": [
        {
          "name": "stdout",
          "output_type": "stream",
          "text": [
            "RAG Evaluation\n",
            "----------------\n",
            "Precision:  0.7604574523866177\n",
            "Recall:  0.7710140916918006\n",
            "F1:  0.7653519340923854\n",
            "Hashcode:  distilbert-base-uncased_L5_no-idf_version=0.3.12(hug_trans=4.39.3)\n",
            "----------------\n",
            "\n",
            "\n",
            "Fine Tuned Model Evaluation\n",
            "----------------\n",
            "Precision:  0.760920232960156\n",
            "Recall:  0.7742156237363815\n",
            "F1:  0.7671647774321693\n",
            "Hashcode:  distilbert-base-uncased_L5_no-idf_version=0.3.12(hug_trans=4.39.3)\n",
            "----------------\n"
          ]
        }
      ],
      "source": [
        "print(\"RAG Evaluation\")\n",
        "print(\"----------------\")\n",
        "print(\"Precision: \", np.mean(results_RAG['precision']))\n",
        "print(\"Recall: \", np.mean(results_RAG['recall']))\n",
        "print(\"F1: \", np.mean(results_RAG['f1']))\n",
        "print(\"Hashcode: \", results_RAG['hashcode'])\n",
        "print(\"----------------\")\n",
        "print(\"\\n\")\n",
        "print(\"Fine Tuned Model Evaluation\")\n",
        "print(\"----------------\")\n",
        "print(\"Precision: \", np.mean(results_Train['precision']))\n",
        "print(\"Recall: \", np.mean(results_Train['recall']))\n",
        "print(\"F1: \", np.mean(results_Train['f1']))\n",
        "print(\"Hashcode: \", results_Train['hashcode'])\n",
        "print(\"----------------\")"
      ]
    }
  ],
  "metadata": {
    "colab": {
      "provenance": []
    },
    "kernelspec": {
      "display_name": "notebook-samples",
      "language": "python",
      "name": "python3"
    },
    "language_info": {
      "codemirror_mode": {
        "name": "ipython",
        "version": 3
      },
      "file_extension": ".py",
      "mimetype": "text/x-python",
      "name": "python",
      "nbconvert_exporter": "python",
      "pygments_lexer": "ipython3",
      "version": "3.11.7"
    }
  },
  "nbformat": 4,
  "nbformat_minor": 0
}
