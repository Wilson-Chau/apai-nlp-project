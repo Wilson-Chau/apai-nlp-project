{
 "cells": [
  {
   "cell_type": "code",
   "execution_count": 1,
   "metadata": {},
   "outputs": [
    {
     "name": "stderr",
     "output_type": "stream",
     "text": [
      "[nltk_data] Downloading package stopwords to\n",
      "[nltk_data]     /home/wk3user3/nltk_data...\n",
      "[nltk_data]   Package stopwords is already up-to-date!\n"
     ]
    }
   ],
   "source": [
    "import gensim\n",
    "import json\n",
    "import nltk\n",
    "import matplotlib.pyplot as plt\n",
    "import numpy as np\n",
    "import os\n",
    "import pandas as pd\n",
    "import random\n",
    "from collections import Counter\n",
    "from nltk.corpus import stopwords\n",
    "from sklearn.metrics import accuracy_score, precision_score, recall_score, f1_score\n",
    "from sklearn.naive_bayes import GaussianNB\n",
    "\n",
    "nltk.download(\"stopwords\")\n",
    "os.chdir(\"../../\")\n",
    "random.seed(42)"
   ]
  },
  {
   "cell_type": "markdown",
   "metadata": {},
   "source": [
    "### Load and process data"
   ]
  },
  {
   "cell_type": "code",
   "execution_count": 2,
   "metadata": {},
   "outputs": [
    {
     "data": {
      "text/html": [
       "<div>\n",
       "<style scoped>\n",
       "    .dataframe tbody tr th:only-of-type {\n",
       "        vertical-align: middle;\n",
       "    }\n",
       "\n",
       "    .dataframe tbody tr th {\n",
       "        vertical-align: top;\n",
       "    }\n",
       "\n",
       "    .dataframe thead th {\n",
       "        text-align: right;\n",
       "    }\n",
       "</style>\n",
       "<table border=\"1\" class=\"dataframe\">\n",
       "  <thead>\n",
       "    <tr style=\"text-align: right;\">\n",
       "      <th></th>\n",
       "      <th>questionText</th>\n",
       "      <th>topic</th>\n",
       "      <th>words</th>\n",
       "    </tr>\n",
       "  </thead>\n",
       "  <tbody>\n",
       "    <tr>\n",
       "      <th>0</th>\n",
       "      <td>I have been diagnosed with general anxiety and...</td>\n",
       "      <td>depression</td>\n",
       "      <td>[diagnosed, general, anxiety, depression, fami...</td>\n",
       "    </tr>\n",
       "    <tr>\n",
       "      <th>1</th>\n",
       "      <td>There are many people willing to lovingly prov...</td>\n",
       "      <td>depression</td>\n",
       "      <td>[many, people, willing, lovingly, provide, hom...</td>\n",
       "    </tr>\n",
       "    <tr>\n",
       "      <th>2</th>\n",
       "      <td>My girlfriend just quit drinking and she becam...</td>\n",
       "      <td>depression</td>\n",
       "      <td>[girlfriend, quit, drinking, became, really, d...</td>\n",
       "    </tr>\n",
       "    <tr>\n",
       "      <th>3</th>\n",
       "      <td>I don't know how else to explain it. All I can...</td>\n",
       "      <td>depression</td>\n",
       "      <td>[know, else, explain, say, feel, empty, feel, ...</td>\n",
       "    </tr>\n",
       "    <tr>\n",
       "      <th>4</th>\n",
       "      <td>I tried telling my husband I was depressed, an...</td>\n",
       "      <td>depression</td>\n",
       "      <td>[tried, telling, husband, depressed, ignored, ...</td>\n",
       "    </tr>\n",
       "  </tbody>\n",
       "</table>\n",
       "</div>"
      ],
      "text/plain": [
       "                                        questionText       topic  \\\n",
       "0  I have been diagnosed with general anxiety and...  depression   \n",
       "1  There are many people willing to lovingly prov...  depression   \n",
       "2  My girlfriend just quit drinking and she becam...  depression   \n",
       "3  I don't know how else to explain it. All I can...  depression   \n",
       "4  I tried telling my husband I was depressed, an...  depression   \n",
       "\n",
       "                                               words  \n",
       "0  [diagnosed, general, anxiety, depression, fami...  \n",
       "1  [many, people, willing, lovingly, provide, hom...  \n",
       "2  [girlfriend, quit, drinking, became, really, d...  \n",
       "3  [know, else, explain, say, feel, empty, feel, ...  \n",
       "4  [tried, telling, husband, depressed, ignored, ...  "
      ]
     },
     "execution_count": 2,
     "metadata": {},
     "output_type": "execute_result"
    }
   ],
   "source": [
    "train_df = pd.read_csv(\"data/processed/split/counsel-chat-best-answer-train.csv\")\n",
    "train_df = train_df[[\"questionText\", \"topic\"]]\n",
    "train_df[\"words\"] = train_df[\"questionText\"].apply(lambda x: list(filter(\n",
    "    lambda word: word not in stopwords.words(\"english\"), gensim.utils.simple_preprocess(x)\n",
    ")))\n",
    "train_df.head()"
   ]
  },
  {
   "cell_type": "code",
   "execution_count": 3,
   "metadata": {},
   "outputs": [
    {
     "data": {
      "text/html": [
       "<div>\n",
       "<style scoped>\n",
       "    .dataframe tbody tr th:only-of-type {\n",
       "        vertical-align: middle;\n",
       "    }\n",
       "\n",
       "    .dataframe tbody tr th {\n",
       "        vertical-align: top;\n",
       "    }\n",
       "\n",
       "    .dataframe thead th {\n",
       "        text-align: right;\n",
       "    }\n",
       "</style>\n",
       "<table border=\"1\" class=\"dataframe\">\n",
       "  <thead>\n",
       "    <tr style=\"text-align: right;\">\n",
       "      <th></th>\n",
       "      <th>questionText</th>\n",
       "      <th>topic</th>\n",
       "      <th>words</th>\n",
       "    </tr>\n",
       "  </thead>\n",
       "  <tbody>\n",
       "    <tr>\n",
       "      <th>0</th>\n",
       "      <td>I have so many issues to address. I have a his...</td>\n",
       "      <td>depression</td>\n",
       "      <td>[many, issues, address, history, sexual, abuse...</td>\n",
       "    </tr>\n",
       "    <tr>\n",
       "      <th>1</th>\n",
       "      <td>My mother is combative with me when I say I do...</td>\n",
       "      <td>depression</td>\n",
       "      <td>[mother, combative, say, want, talk, depressio...</td>\n",
       "    </tr>\n",
       "    <tr>\n",
       "      <th>2</th>\n",
       "      <td>A few years ago I was making love to my wife w...</td>\n",
       "      <td>depression</td>\n",
       "      <td>[years, ago, making, love, wife, known, reason...</td>\n",
       "    </tr>\n",
       "    <tr>\n",
       "      <th>3</th>\n",
       "      <td>I'm going through some things with my feelings...</td>\n",
       "      <td>depression</td>\n",
       "      <td>[going, things, feelings, barely, sleep, nothi...</td>\n",
       "    </tr>\n",
       "    <tr>\n",
       "      <th>4</th>\n",
       "      <td>I feel like I'm so alone. I treat people horri...</td>\n",
       "      <td>depression</td>\n",
       "      <td>[feel, like, alone, treat, people, horribly, b...</td>\n",
       "    </tr>\n",
       "  </tbody>\n",
       "</table>\n",
       "</div>"
      ],
      "text/plain": [
       "                                        questionText       topic  \\\n",
       "0  I have so many issues to address. I have a his...  depression   \n",
       "1  My mother is combative with me when I say I do...  depression   \n",
       "2  A few years ago I was making love to my wife w...  depression   \n",
       "3  I'm going through some things with my feelings...  depression   \n",
       "4  I feel like I'm so alone. I treat people horri...  depression   \n",
       "\n",
       "                                               words  \n",
       "0  [many, issues, address, history, sexual, abuse...  \n",
       "1  [mother, combative, say, want, talk, depressio...  \n",
       "2  [years, ago, making, love, wife, known, reason...  \n",
       "3  [going, things, feelings, barely, sleep, nothi...  \n",
       "4  [feel, like, alone, treat, people, horribly, b...  "
      ]
     },
     "execution_count": 3,
     "metadata": {},
     "output_type": "execute_result"
    }
   ],
   "source": [
    "test_df = pd.read_csv(\"data/processed/split/counsel-chat-best-answer-test.csv\")\n",
    "test_df = test_df[[\"questionText\", \"topic\"]]\n",
    "test_df[\"words\"] = test_df[\"questionText\"].apply(lambda x: list(filter(\n",
    "    lambda word: word not in stopwords.words(\"english\"), gensim.utils.simple_preprocess(x)\n",
    ")))\n",
    "test_df.head()"
   ]
  },
  {
   "cell_type": "markdown",
   "metadata": {},
   "source": [
    "### Bag of words"
   ]
  },
  {
   "cell_type": "code",
   "execution_count": 4,
   "metadata": {},
   "outputs": [
    {
     "data": {
      "text/plain": [
       "['<UNK>',\n",
       " 'feel',\n",
       " 'like',\n",
       " 'know',\n",
       " 'get',\n",
       " 'want',\n",
       " 'time',\n",
       " 'years',\n",
       " 'boyfriend',\n",
       " 'really']"
      ]
     },
     "execution_count": 4,
     "metadata": {},
     "output_type": "execute_result"
    }
   ],
   "source": [
    "term_freq = Counter([word for words in train_df.words for word in words])\n",
    "unknown = \"<UNK>\"\n",
    "vocabs = [unknown] + [word for word, count in sorted(\n",
    "    term_freq.items(), key=lambda x: x[1], reverse=True\n",
    ")[:31]]\n",
    "vocabs[:10]"
   ]
  },
  {
   "cell_type": "code",
   "execution_count": 5,
   "metadata": {},
   "outputs": [
    {
     "data": {
      "text/plain": [
       "(445, 32)"
      ]
     },
     "execution_count": 5,
     "metadata": {},
     "output_type": "execute_result"
    }
   ],
   "source": [
    "def get_bow(ws):\n",
    "    words = [word if word in vocabs else unknown for word in ws]\n",
    "    return [words.count(v) for v in vocabs]\n",
    "train_bow = np.array([\n",
    "    get_bow(ws) for ws in train_df.words\n",
    "])\n",
    "train_bow.shape"
   ]
  },
  {
   "cell_type": "code",
   "execution_count": 6,
   "metadata": {},
   "outputs": [
    {
     "data": {
      "text/plain": [
       "(112, 32)"
      ]
     },
     "execution_count": 6,
     "metadata": {},
     "output_type": "execute_result"
    }
   ],
   "source": [
    "test_bow = np.array([\n",
    "    get_bow(words) for words in test_df.words\n",
    "])\n",
    "test_bow.shape"
   ]
  },
  {
   "cell_type": "markdown",
   "metadata": {},
   "source": [
    "### Classes"
   ]
  },
  {
   "cell_type": "code",
   "execution_count": 7,
   "metadata": {},
   "outputs": [
    {
     "data": {
      "text/plain": [
       "['depression',\n",
       " 'anxiety',\n",
       " 'parenting',\n",
       " 'self-esteem',\n",
       " 'intimacy',\n",
       " 'family-conflict',\n",
       " 'relationships']"
      ]
     },
     "execution_count": 7,
     "metadata": {},
     "output_type": "execute_result"
    }
   ],
   "source": [
    "topics = [topic for topic, count in Counter(train_df.topic).items() if count > 25]\n",
    "topics"
   ]
  },
  {
   "cell_type": "markdown",
   "metadata": {},
   "source": [
    "### KNN classification"
   ]
  },
  {
   "cell_type": "code",
   "execution_count": 8,
   "metadata": {},
   "outputs": [],
   "source": [
    "def get_top_k(distances, k):\n",
    "    distances_sorted = np.sort(distances)\n",
    "    return [distances.index(distances_sorted[i]) for i in range(k)]\n",
    "def k_nearest_neighbour_classifier(train_feat, train_labels, test_feat, k=3):\n",
    "    nn = [\n",
    "        get_top_k([np.linalg.norm(img1 - img2) for img1 in train_feat], k)\n",
    "    for img2 in test_feat]\n",
    "    nn = [[train_labels[i] for i in row] for row in nn]\n",
    "    return [\n",
    "        max(set(row), key=row.count) for row in nn\n",
    "    ]"
   ]
  },
  {
   "cell_type": "code",
   "execution_count": 9,
   "metadata": {},
   "outputs": [
    {
     "data": {
      "image/png": "[encoded data removed]",
      "text/plain": [
       "<Figure size 640x480 with 1 Axes>"
      ]
     },
     "metadata": {},
     "output_type": "display_data"
    }
   ],
   "source": [
    "test_accs = []\n",
    "for k in range(1, 17):\n",
    "    train_topics = [topic if topic in topics else \"others\" for topic in train_df.topic]\n",
    "    test_topics = [topic if topic in topics else \"others\" for topic in test_df.topic]\n",
    "    test_preds = k_nearest_neighbour_classifier(train_bow, train_topics, test_bow, k=k)\n",
    "    test_acc = sum([test_topics[i] == test_preds[i] for i in range(len(test_topics))]) / len(test_topics)\n",
    "    test_accs.append(test_acc)\n",
    "\n",
    "plt.plot(range(1, 17), test_accs)\n",
    "plt.show()"
   ]
  },
  {
   "cell_type": "markdown",
   "metadata": {},
   "source": [
    "### Naive bayes"
   ]
  },
  {
   "cell_type": "code",
   "execution_count": 15,
   "metadata": {},
   "outputs": [],
   "source": [
    "metrics = {}\n",
    "preds = {}\n",
    "for t in topics:\n",
    "    train_topics = [1 if topic == t else 0 for topic in train_df.topic]\n",
    "    train_samples = random.sample([i for i, topic in enumerate(train_topics) if topic == 0], train_topics.count(1) * 2)\n",
    "    train_samples = sorted(train_samples + [i for i, topic in enumerate(train_topics) if topic == 1])\n",
    "    train_bow_t = [bow for i, bow in enumerate(train_bow) if i in train_samples]\n",
    "    train_topics_t = [topic for i, topic in enumerate(train_topics) if i in train_samples]\n",
    "    gnb = GaussianNB()\n",
    "    gnb.fit(train_bow_t, train_topics_t)\n",
    "    test_topics = [1 if topic == t else 0 for topic in test_df.topic]\n",
    "    test_preds = gnb.predict(test_bow)\n",
    "    preds[t] = test_preds.copy()\n",
    "    metrics[t] = {\n",
    "        \"accuracy\": accuracy_score(test_topics, test_preds),\n",
    "        \"precision\": precision_score(test_topics, test_preds),\n",
    "        \"recall\": recall_score(test_topics, test_preds),\n",
    "        \"f1\": f1_score(test_topics, test_preds)\n",
    "    }"
   ]
  },
  {
   "cell_type": "code",
   "execution_count": 16,
   "metadata": {},
   "outputs": [
    {
     "data": {
      "text/html": [
       "<div>\n",
       "<style scoped>\n",
       "    .dataframe tbody tr th:only-of-type {\n",
       "        vertical-align: middle;\n",
       "    }\n",
       "\n",
       "    .dataframe tbody tr th {\n",
       "        vertical-align: top;\n",
       "    }\n",
       "\n",
       "    .dataframe thead th {\n",
       "        text-align: right;\n",
       "    }\n",
       "</style>\n",
       "<table border=\"1\" class=\"dataframe\">\n",
       "  <thead>\n",
       "    <tr style=\"text-align: right;\">\n",
       "      <th></th>\n",
       "      <th>accuracy</th>\n",
       "      <th>precision</th>\n",
       "      <th>recall</th>\n",
       "      <th>f1</th>\n",
       "    </tr>\n",
       "  </thead>\n",
       "  <tbody>\n",
       "    <tr>\n",
       "      <th>depression</th>\n",
       "      <td>0.535714</td>\n",
       "      <td>0.228070</td>\n",
       "      <td>0.619048</td>\n",
       "      <td>0.333333</td>\n",
       "    </tr>\n",
       "    <tr>\n",
       "      <th>anxiety</th>\n",
       "      <td>0.383929</td>\n",
       "      <td>0.142857</td>\n",
       "      <td>0.785714</td>\n",
       "      <td>0.241758</td>\n",
       "    </tr>\n",
       "    <tr>\n",
       "      <th>parenting</th>\n",
       "      <td>0.428571</td>\n",
       "      <td>0.089552</td>\n",
       "      <td>0.666667</td>\n",
       "      <td>0.157895</td>\n",
       "    </tr>\n",
       "    <tr>\n",
       "      <th>self-esteem</th>\n",
       "      <td>0.241071</td>\n",
       "      <td>0.011765</td>\n",
       "      <td>0.500000</td>\n",
       "      <td>0.022989</td>\n",
       "    </tr>\n",
       "    <tr>\n",
       "      <th>intimacy</th>\n",
       "      <td>0.410714</td>\n",
       "      <td>0.114286</td>\n",
       "      <td>0.666667</td>\n",
       "      <td>0.195122</td>\n",
       "    </tr>\n",
       "    <tr>\n",
       "      <th>family-conflict</th>\n",
       "      <td>0.357143</td>\n",
       "      <td>0.077922</td>\n",
       "      <td>0.857143</td>\n",
       "      <td>0.142857</td>\n",
       "    </tr>\n",
       "    <tr>\n",
       "      <th>relationships</th>\n",
       "      <td>0.607143</td>\n",
       "      <td>0.145833</td>\n",
       "      <td>0.700000</td>\n",
       "      <td>0.241379</td>\n",
       "    </tr>\n",
       "  </tbody>\n",
       "</table>\n",
       "</div>"
      ],
      "text/plain": [
       "                 accuracy  precision    recall        f1\n",
       "depression       0.535714   0.228070  0.619048  0.333333\n",
       "anxiety          0.383929   0.142857  0.785714  0.241758\n",
       "parenting        0.428571   0.089552  0.666667  0.157895\n",
       "self-esteem      0.241071   0.011765  0.500000  0.022989\n",
       "intimacy         0.410714   0.114286  0.666667  0.195122\n",
       "family-conflict  0.357143   0.077922  0.857143  0.142857\n",
       "relationships    0.607143   0.145833  0.700000  0.241379"
      ]
     },
     "execution_count": 16,
     "metadata": {},
     "output_type": "execute_result"
    }
   ],
   "source": [
    "metrics_df = pd.DataFrame.from_dict(metrics, orient=\"index\")\n",
    "metrics_df"
   ]
  },
  {
   "cell_type": "code",
   "execution_count": 17,
   "metadata": {},
   "outputs": [
    {
     "data": {
      "image/png": "[encoded data removed]",
      "text/plain": [
       "<Figure size 1200x800 with 4 Axes>"
      ]
     },
     "metadata": {},
     "output_type": "display_data"
    }
   ],
   "source": [
    "fig = plt.figure(figsize=(12, 8))\n",
    "for i, metric in enumerate(metrics_df.columns):\n",
    "    fig.add_subplot(2, 2, i + 1)\n",
    "    plt.barh(metrics_df.index, metrics_df[metric])\n",
    "    plt.title(metric)\n",
    "    plt.xlim([0.0, 1.0])\n",
    "    if i in [1, 3]:\n",
    "        plt.yticks([])\n"
   ]
  },
  {
   "cell_type": "code",
   "execution_count": 18,
   "metadata": {},
   "outputs": [
    {
     "data": {
      "text/plain": [
       "Text(0.5, 1.0, 'Estimated Appearance Frequency in Test Dataset')"
      ]
     },
     "execution_count": 18,
     "metadata": {},
     "output_type": "execute_result"
    },
    {
     "data": {
      "image/png": "[encoded data removed]",
      "text/plain": [
       "<Figure size 640x480 with 1 Axes>"
      ]
     },
     "metadata": {},
     "output_type": "display_data"
    }
   ],
   "source": [
    "topic_freq = {t: np.sum(p) for t, p in preds.items()}\n",
    "plt.barh(topics, topic_freq.values())\n",
    "plt.xlim([0, test_df.shape[0]])\n",
    "plt.title(\"Estimated Appearance Frequency in Test Dataset\")"
   ]
  },
  {
   "cell_type": "code",
   "execution_count": null,
   "metadata": {},
   "outputs": [],
   "source": []
  }
 ],
 "metadata": {
  "kernelspec": {
   "display_name": "apai-nlp",
   "language": "python",
   "name": "python3"
  },
  "language_info": {
   "codemirror_mode": {
    "name": "ipython",
    "version": 3
   },
   "file_extension": ".py",
   "mimetype": "text/x-python",
   "name": "python",
   "nbconvert_exporter": "python",
   "pygments_lexer": "ipython3",
   "version": "3.10.13"
  }
 },
 "nbformat": 4,
 "nbformat_minor": 2
}
