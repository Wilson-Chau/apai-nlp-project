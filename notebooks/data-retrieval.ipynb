{
 "cells": [
  {
   "cell_type": "markdown",
   "metadata": {},
   "source": [
    "# Data Retrieval"
   ]
  },
  {
   "cell_type": "code",
   "execution_count": 1,
   "metadata": {},
   "outputs": [],
   "source": [
    "import json\n",
    "import os\n",
    "import pandas as pd\n",
    "\n",
    "os.chdir(\"..\")"
   ]
  },
  {
   "cell_type": "markdown",
   "metadata": {},
   "source": [
    "### Counsel Chat"
   ]
  },
  {
   "cell_type": "code",
   "execution_count": 2,
   "metadata": {},
   "outputs": [],
   "source": [
    "# !wget \"https://huggingface.co/api/datasets/nbertagnolli/counsel-chat/parquet/default/train/0.parquet\" -O \"data/raw/counsel-chat.pkl\""
   ]
  },
  {
   "cell_type": "code",
   "execution_count": 25,
   "metadata": {},
   "outputs": [
    {
     "name": "stdout",
     "output_type": "stream",
     "text": [
      "(2775, 10)\n"
     ]
    },
    {
     "data": {
      "text/html": [
       "<div>\n",
       "<style scoped>\n",
       "    .dataframe tbody tr th:only-of-type {\n",
       "        vertical-align: middle;\n",
       "    }\n",
       "\n",
       "    .dataframe tbody tr th {\n",
       "        vertical-align: top;\n",
       "    }\n",
       "\n",
       "    .dataframe thead th {\n",
       "        text-align: right;\n",
       "    }\n",
       "</style>\n",
       "<table border=\"1\" class=\"dataframe\">\n",
       "  <thead>\n",
       "    <tr style=\"text-align: right;\">\n",
       "      <th></th>\n",
       "      <th>questionID</th>\n",
       "      <th>questionTitle</th>\n",
       "      <th>questionText</th>\n",
       "      <th>questionLink</th>\n",
       "      <th>topic</th>\n",
       "      <th>therapistInfo</th>\n",
       "      <th>therapistURL</th>\n",
       "      <th>answerText</th>\n",
       "      <th>upvotes</th>\n",
       "      <th>views</th>\n",
       "    </tr>\n",
       "  </thead>\n",
       "  <tbody>\n",
       "    <tr>\n",
       "      <th>0</th>\n",
       "      <td>0</td>\n",
       "      <td>Do I have too many issues for counseling?</td>\n",
       "      <td>I have so many issues to address. I have a his...</td>\n",
       "      <td>https://counselchat.com/questions/do-i-have-to...</td>\n",
       "      <td>depression</td>\n",
       "      <td>Jennifer MolinariHypnotherapist &amp; Licensed Cou...</td>\n",
       "      <td>https://counselchat.com/therapists/jennifer-mo...</td>\n",
       "      <td>It is very common for people to have multiple ...</td>\n",
       "      <td>3</td>\n",
       "      <td>1971</td>\n",
       "    </tr>\n",
       "    <tr>\n",
       "      <th>1</th>\n",
       "      <td>0</td>\n",
       "      <td>Do I have too many issues for counseling?</td>\n",
       "      <td>I have so many issues to address. I have a his...</td>\n",
       "      <td>https://counselchat.com/questions/do-i-have-to...</td>\n",
       "      <td>depression</td>\n",
       "      <td>Jason Lynch, MS, LMHC, LCAC, ADSIndividual &amp; C...</td>\n",
       "      <td>https://counselchat.com/therapists/jason-lynch...</td>\n",
       "      <td>I've never heard of someone having \"too many i...</td>\n",
       "      <td>2</td>\n",
       "      <td>386</td>\n",
       "    </tr>\n",
       "    <tr>\n",
       "      <th>2</th>\n",
       "      <td>0</td>\n",
       "      <td>Do I have too many issues for counseling?</td>\n",
       "      <td>I have so many issues to address. I have a his...</td>\n",
       "      <td>https://counselchat.com/questions/do-i-have-to...</td>\n",
       "      <td>depression</td>\n",
       "      <td>Shakeeta TorresFaith Based Mental Health Couns...</td>\n",
       "      <td>https://counselchat.com/therapists/shakeeta-to...</td>\n",
       "      <td>Absolutely not.  I strongly recommending worki...</td>\n",
       "      <td>2</td>\n",
       "      <td>3071</td>\n",
       "    </tr>\n",
       "    <tr>\n",
       "      <th>3</th>\n",
       "      <td>0</td>\n",
       "      <td>Do I have too many issues for counseling?</td>\n",
       "      <td>I have so many issues to address. I have a his...</td>\n",
       "      <td>https://counselchat.com/questions/do-i-have-to...</td>\n",
       "      <td>depression</td>\n",
       "      <td>Noorayne ChevalierMA, RP, CCC, CCAC, LLP (Mich...</td>\n",
       "      <td>https://counselchat.com/therapists/noorayne-ch...</td>\n",
       "      <td>Let me start by saying there are never too man...</td>\n",
       "      <td>2</td>\n",
       "      <td>2643</td>\n",
       "    </tr>\n",
       "    <tr>\n",
       "      <th>4</th>\n",
       "      <td>0</td>\n",
       "      <td>Do I have too many issues for counseling?</td>\n",
       "      <td>I have so many issues to address. I have a his...</td>\n",
       "      <td>https://counselchat.com/questions/do-i-have-to...</td>\n",
       "      <td>depression</td>\n",
       "      <td>Toni Teixeira, LCSWYour road to healing begins...</td>\n",
       "      <td>https://counselchat.com/therapists/toni-teixei...</td>\n",
       "      <td>I just want to acknowledge you for the courage...</td>\n",
       "      <td>1</td>\n",
       "      <td>256</td>\n",
       "    </tr>\n",
       "  </tbody>\n",
       "</table>\n",
       "</div>"
      ],
      "text/plain": [
       "   questionID                              questionTitle  \\\n",
       "0           0  Do I have too many issues for counseling?   \n",
       "1           0  Do I have too many issues for counseling?   \n",
       "2           0  Do I have too many issues for counseling?   \n",
       "3           0  Do I have too many issues for counseling?   \n",
       "4           0  Do I have too many issues for counseling?   \n",
       "\n",
       "                                        questionText  \\\n",
       "0  I have so many issues to address. I have a his...   \n",
       "1  I have so many issues to address. I have a his...   \n",
       "2  I have so many issues to address. I have a his...   \n",
       "3  I have so many issues to address. I have a his...   \n",
       "4  I have so many issues to address. I have a his...   \n",
       "\n",
       "                                        questionLink       topic  \\\n",
       "0  https://counselchat.com/questions/do-i-have-to...  depression   \n",
       "1  https://counselchat.com/questions/do-i-have-to...  depression   \n",
       "2  https://counselchat.com/questions/do-i-have-to...  depression   \n",
       "3  https://counselchat.com/questions/do-i-have-to...  depression   \n",
       "4  https://counselchat.com/questions/do-i-have-to...  depression   \n",
       "\n",
       "                                       therapistInfo  \\\n",
       "0  Jennifer MolinariHypnotherapist & Licensed Cou...   \n",
       "1  Jason Lynch, MS, LMHC, LCAC, ADSIndividual & C...   \n",
       "2  Shakeeta TorresFaith Based Mental Health Couns...   \n",
       "3  Noorayne ChevalierMA, RP, CCC, CCAC, LLP (Mich...   \n",
       "4  Toni Teixeira, LCSWYour road to healing begins...   \n",
       "\n",
       "                                        therapistURL  \\\n",
       "0  https://counselchat.com/therapists/jennifer-mo...   \n",
       "1  https://counselchat.com/therapists/jason-lynch...   \n",
       "2  https://counselchat.com/therapists/shakeeta-to...   \n",
       "3  https://counselchat.com/therapists/noorayne-ch...   \n",
       "4  https://counselchat.com/therapists/toni-teixei...   \n",
       "\n",
       "                                          answerText  upvotes  views  \n",
       "0  It is very common for people to have multiple ...        3   1971  \n",
       "1  I've never heard of someone having \"too many i...        2    386  \n",
       "2  Absolutely not.  I strongly recommending worki...        2   3071  \n",
       "3  Let me start by saying there are never too man...        2   2643  \n",
       "4  I just want to acknowledge you for the courage...        1    256  "
      ]
     },
     "execution_count": 25,
     "metadata": {},
     "output_type": "execute_result"
    }
   ],
   "source": [
    "counsel_chat = pd.read_parquet(\"data/raw/counsel-chat.pkl\", engine=\"pyarrow\")\n",
    "print(counsel_chat.shape)\n",
    "counsel_chat.head()"
   ]
  },
  {
   "cell_type": "code",
   "execution_count": null,
   "metadata": {},
   "outputs": [],
   "source": []
  }
 ],
 "metadata": {
  "kernelspec": {
   "display_name": "apai-nlp",
   "language": "python",
   "name": "python3"
  },
  "language_info": {
   "codemirror_mode": {
    "name": "ipython",
    "version": 3
   },
   "file_extension": ".py",
   "mimetype": "text/x-python",
   "name": "python",
   "nbconvert_exporter": "python",
   "pygments_lexer": "ipython3",
   "version": "3.11.8"
  }
 },
 "nbformat": 4,
 "nbformat_minor": 2
}
